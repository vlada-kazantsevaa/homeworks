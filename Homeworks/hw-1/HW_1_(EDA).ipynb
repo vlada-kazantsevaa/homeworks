{
  "nbformat": 4,
  "nbformat_minor": 0,
  "metadata": {
    "colab": {
      "provenance": [],
      "toc_visible": true,
      "include_colab_link": true
    },
    "kernelspec": {
      "name": "python3",
      "display_name": "Python 3"
    },
    "language_info": {
      "name": "python"
    }
  },
  "cells": [
    {
      "cell_type": "markdown",
      "metadata": {
        "id": "view-in-github",
        "colab_type": "text"
      },
      "source": [
        "<a href=\"https://colab.research.google.com/github/vlada-kazantsevaa/homeworks/blob/main/Homeworks/hw-1/HW_1_(EDA).ipynb\" target=\"_parent\"><img src=\"https://colab.research.google.com/assets/colab-badge.svg\" alt=\"Open In Colab\"/></a>"
      ]
    },
    {
      "cell_type": "markdown",
      "source": [
        "# Introduction\n",
        "\n",
        "This homework will:\n",
        "* Remind you how to ~google~ learn and navigate in previously unknown topics\n",
        "* Show you how to create paper-ready plots in Python\n",
        "* Sharpen your skills in data analysis and making educated guesses\n",
        "\n",
        "As mentioned earlier, we expect you to be familiar with Python's trivial syntax, idioms, and constructs, or learn them on the fly.\n",
        "\n",
        "**Notes:**\n",
        "* Check github page for more info on how to submit homework.\n",
        "* We will be using matplotlib as our main graphics library. If for any reason you don't like this package feel free to use other solutions.\n",
        "* Write answers directly in the Colab/Jupyter Notebook, `.ipynb` file is the only acceptable form of homework report.\n",
        "* There are scores provided near each section (sometimes near specific tasks too). The maximum score for HW is 10, but you **don't** have to do everything. Remember, in HSE 8 is also an excellent result.\n",
        "* To get full points for a section you should complete all tasks and answer all questions in it.\n",
        "* The code in each cell is just a recommendation. Feel free to write your own implementation that does the same, or follow hints that I left for you.\n",
        "* Better to write at least some answers, then skip the homework completely.\n",
        "* If you copy your friend's/LLM's answers, that's bad, but we can't reliably control it. At the very least understand each line of code and retype it yourself with a different structure. **Direct or naive plagiarism will be punished according to the HSE rules.**\n",
        "\n",
        "Don't forget to submit the feedback! Especially if the homework was too difficult or easy for you."
      ],
      "metadata": {
        "id": "PuQQtL_5-iTY"
      }
    },
    {
      "cell_type": "markdown",
      "source": [
        "# About\n",
        "\n",
        "The following homework will contain two separate cases. Both are dedicated to improve your skills in data analysis.\n",
        "\n",
        "- The first case is about more human-readable diabetes dataset that we've already encountered on one of our seminars. There are almost no hints given, but you can reuse code from seminars.\n",
        "\n",
        "- The second case is more of a bioinformatic analysis, where you will work RNA-seq data. It will showcase the preparation of some QC-specific (Quality Control, more on that later) plots, however most of them are considered extra in this work.\n",
        "\n",
        "And remember: extra tasks are optional, those points can also be obtained by answering questions at lectures."
      ],
      "metadata": {
        "id": "kJyetJazXAkh"
      }
    },
    {
      "cell_type": "markdown",
      "source": [
        "# Case I: Diabetes Dataset Analysis (4 points)"
      ],
      "metadata": {
        "id": "38X7gT9nW2eb"
      }
    },
    {
      "cell_type": "code",
      "source": [
        "from sklearn import datasets\n",
        "import pandas as pd\n",
        "import numpy as np"
      ],
      "metadata": {
        "id": "WDgtpY0zWsQj"
      },
      "execution_count": 3,
      "outputs": []
    },
    {
      "cell_type": "markdown",
      "source": [
        "For this work, we will use one of the \"toy\" datasets from the sklearn library, containing information about 442 patients with diabetes.\n",
        "\n",
        "Access to datasets from sklearn can be done through built-in functions; downloading external files is not required.\n",
        "\n",
        "Let's load the dataset and read its description:"
      ],
      "metadata": {
        "id": "1ePZ89lIWsmk"
      }
    },
    {
      "cell_type": "code",
      "source": [
        "diabetes = datasets.load_diabetes()\n",
        "print(diabetes.DESCR)"
      ],
      "metadata": {
        "id": "q-ZA3fUjWsu6",
        "outputId": "be7cfd0e-e417-4ba6-8ad0-5b671e6a8433",
        "colab": {
          "base_uri": "https://localhost:8080/"
        }
      },
      "execution_count": 4,
      "outputs": [
        {
          "output_type": "stream",
          "name": "stdout",
          "text": [
            ".. _diabetes_dataset:\n",
            "\n",
            "Diabetes dataset\n",
            "----------------\n",
            "\n",
            "Ten baseline variables, age, sex, body mass index, average blood\n",
            "pressure, and six blood serum measurements were obtained for each of n =\n",
            "442 diabetes patients, as well as the response of interest, a\n",
            "quantitative measure of disease progression one year after baseline.\n",
            "\n",
            "**Data Set Characteristics:**\n",
            "\n",
            ":Number of Instances: 442\n",
            "\n",
            ":Number of Attributes: First 10 columns are numeric predictive values\n",
            "\n",
            ":Target: Column 11 is a quantitative measure of disease progression one year after baseline\n",
            "\n",
            ":Attribute Information:\n",
            "    - age     age in years\n",
            "    - sex\n",
            "    - bmi     body mass index\n",
            "    - bp      average blood pressure\n",
            "    - s1      tc, total serum cholesterol\n",
            "    - s2      ldl, low-density lipoproteins\n",
            "    - s3      hdl, high-density lipoproteins\n",
            "    - s4      tch, total cholesterol / HDL\n",
            "    - s5      ltg, possibly log of serum triglycerides level\n",
            "    - s6      glu, blood sugar level\n",
            "\n",
            "Note: Each of these 10 feature variables have been mean centered and scaled by the standard deviation times the square root of `n_samples` (i.e. the sum of squares of each column totals 1).\n",
            "\n",
            "Source URL:\n",
            "https://www4.stat.ncsu.edu/~boos/var.select/diabetes.html\n",
            "\n",
            "For more information see:\n",
            "Bradley Efron, Trevor Hastie, Iain Johnstone and Robert Tibshirani (2004) \"Least Angle Regression,\" Annals of Statistics (with discussion), 407-499.\n",
            "(https://web.stanford.edu/~hastie/Papers/LARS/LeastAngle_2002.pdf)\n",
            "\n"
          ]
        }
      ]
    },
    {
      "cell_type": "markdown",
      "source": [
        "Note that this is not the original dataset; the original features have already been processed:\n",
        "\n",
        "\n",
        "```\n",
        "Each of these 10 feature variables have been mean centered and scaled by\n",
        "the standard deviation times the square root of `n_samples`\n",
        "```\n",
        "For the current assignment, this is not suitable for us, which is why we will download the original data. You can find them by following the link indicated in the description under the ```Source URL``` line. However, for convenience, below is a cell that downloads the file automatically (you can use ```wget```, but it doesn't always work from Jupyter)."
      ],
      "metadata": {
        "id": "zCdzIrjfWs3V"
      }
    },
    {
      "cell_type": "code",
      "source": [
        "import requests # if the library is missing, install via pip install\n",
        "\n",
        "url = 'https://www4.stat.ncsu.edu/~boos/var.select/diabetes.tab.txt'\n",
        "\n",
        "response = requests.get(url)\n",
        "if response.status_code == 200:\n",
        "    with open('diabetes.tab.txt', 'wb') as file:\n",
        "        file.write(response.content)\n",
        "    print(\"You downloaded diabetes dataset\")\n",
        "else:\n",
        "    print(\"Diabetes dataset was NOT loaded, please do it manually\")"
      ],
      "metadata": {
        "colab": {
          "base_uri": "https://localhost:8080/"
        },
        "id": "P7uM1uWiWtAU",
        "outputId": "a1fd97a5-5e5a-4c9b-8b32-4b004a8458ce"
      },
      "execution_count": 5,
      "outputs": [
        {
          "output_type": "stream",
          "name": "stdout",
          "text": [
            "You downloaded diabetes dataset\n"
          ]
        }
      ]
    },
    {
      "cell_type": "code",
      "source": [
        "# Specify the file path here\n",
        "filepath = \"diabetes.tab.txt\"\n",
        "df = pd.read_table(filepath)"
      ],
      "metadata": {
        "id": "cdrccVTBX_Dn"
      },
      "execution_count": 6,
      "outputs": []
    },
    {
      "cell_type": "markdown",
      "source": [
        "Now we can proceed directly to practice."
      ],
      "metadata": {
        "id": "Ooth48hUZ53N"
      }
    },
    {
      "cell_type": "markdown",
      "source": [
        "## [1.5] Dataset exploration\n",
        "\n",
        "Display the first and last five rows of the dataset:"
      ],
      "metadata": {
        "id": "w_FFHSIxaBQl"
      }
    },
    {
      "cell_type": "code",
      "source": [
        "print('first five rows')\n",
        "display(df.head())\n",
        "print('last five rows')\n",
        "display(df.tail())"
      ],
      "metadata": {
        "id": "uNiXrkIQaTAh",
        "outputId": "43360d1a-1006-46c6-be84-b15b71a933f3",
        "colab": {
          "base_uri": "https://localhost:8080/",
          "height": 425
        }
      },
      "execution_count": 9,
      "outputs": [
        {
          "output_type": "stream",
          "name": "stdout",
          "text": [
            "first five rows\n"
          ]
        },
        {
          "output_type": "display_data",
          "data": {
            "text/plain": [
              "   AGE  SEX   BMI     BP   S1     S2    S3   S4      S5  S6    Y\n",
              "0   59    2  32.1  101.0  157   93.2  38.0  4.0  4.8598  87  151\n",
              "1   48    1  21.6   87.0  183  103.2  70.0  3.0  3.8918  69   75\n",
              "2   72    2  30.5   93.0  156   93.6  41.0  4.0  4.6728  85  141\n",
              "3   24    1  25.3   84.0  198  131.4  40.0  5.0  4.8903  89  206\n",
              "4   50    1  23.0  101.0  192  125.4  52.0  4.0  4.2905  80  135"
            ],
            "text/html": [
              "\n",
              "  <div id=\"df-f94c91d5-d882-4023-b262-bcf704faaabf\" class=\"colab-df-container\">\n",
              "    <div>\n",
              "<style scoped>\n",
              "    .dataframe tbody tr th:only-of-type {\n",
              "        vertical-align: middle;\n",
              "    }\n",
              "\n",
              "    .dataframe tbody tr th {\n",
              "        vertical-align: top;\n",
              "    }\n",
              "\n",
              "    .dataframe thead th {\n",
              "        text-align: right;\n",
              "    }\n",
              "</style>\n",
              "<table border=\"1\" class=\"dataframe\">\n",
              "  <thead>\n",
              "    <tr style=\"text-align: right;\">\n",
              "      <th></th>\n",
              "      <th>AGE</th>\n",
              "      <th>SEX</th>\n",
              "      <th>BMI</th>\n",
              "      <th>BP</th>\n",
              "      <th>S1</th>\n",
              "      <th>S2</th>\n",
              "      <th>S3</th>\n",
              "      <th>S4</th>\n",
              "      <th>S5</th>\n",
              "      <th>S6</th>\n",
              "      <th>Y</th>\n",
              "    </tr>\n",
              "  </thead>\n",
              "  <tbody>\n",
              "    <tr>\n",
              "      <th>0</th>\n",
              "      <td>59</td>\n",
              "      <td>2</td>\n",
              "      <td>32.1</td>\n",
              "      <td>101.0</td>\n",
              "      <td>157</td>\n",
              "      <td>93.2</td>\n",
              "      <td>38.0</td>\n",
              "      <td>4.0</td>\n",
              "      <td>4.8598</td>\n",
              "      <td>87</td>\n",
              "      <td>151</td>\n",
              "    </tr>\n",
              "    <tr>\n",
              "      <th>1</th>\n",
              "      <td>48</td>\n",
              "      <td>1</td>\n",
              "      <td>21.6</td>\n",
              "      <td>87.0</td>\n",
              "      <td>183</td>\n",
              "      <td>103.2</td>\n",
              "      <td>70.0</td>\n",
              "      <td>3.0</td>\n",
              "      <td>3.8918</td>\n",
              "      <td>69</td>\n",
              "      <td>75</td>\n",
              "    </tr>\n",
              "    <tr>\n",
              "      <th>2</th>\n",
              "      <td>72</td>\n",
              "      <td>2</td>\n",
              "      <td>30.5</td>\n",
              "      <td>93.0</td>\n",
              "      <td>156</td>\n",
              "      <td>93.6</td>\n",
              "      <td>41.0</td>\n",
              "      <td>4.0</td>\n",
              "      <td>4.6728</td>\n",
              "      <td>85</td>\n",
              "      <td>141</td>\n",
              "    </tr>\n",
              "    <tr>\n",
              "      <th>3</th>\n",
              "      <td>24</td>\n",
              "      <td>1</td>\n",
              "      <td>25.3</td>\n",
              "      <td>84.0</td>\n",
              "      <td>198</td>\n",
              "      <td>131.4</td>\n",
              "      <td>40.0</td>\n",
              "      <td>5.0</td>\n",
              "      <td>4.8903</td>\n",
              "      <td>89</td>\n",
              "      <td>206</td>\n",
              "    </tr>\n",
              "    <tr>\n",
              "      <th>4</th>\n",
              "      <td>50</td>\n",
              "      <td>1</td>\n",
              "      <td>23.0</td>\n",
              "      <td>101.0</td>\n",
              "      <td>192</td>\n",
              "      <td>125.4</td>\n",
              "      <td>52.0</td>\n",
              "      <td>4.0</td>\n",
              "      <td>4.2905</td>\n",
              "      <td>80</td>\n",
              "      <td>135</td>\n",
              "    </tr>\n",
              "  </tbody>\n",
              "</table>\n",
              "</div>\n",
              "    <div class=\"colab-df-buttons\">\n",
              "\n",
              "  <div class=\"colab-df-container\">\n",
              "    <button class=\"colab-df-convert\" onclick=\"convertToInteractive('df-f94c91d5-d882-4023-b262-bcf704faaabf')\"\n",
              "            title=\"Convert this dataframe to an interactive table.\"\n",
              "            style=\"display:none;\">\n",
              "\n",
              "  <svg xmlns=\"http://www.w3.org/2000/svg\" height=\"24px\" viewBox=\"0 -960 960 960\">\n",
              "    <path d=\"M120-120v-720h720v720H120Zm60-500h600v-160H180v160Zm220 220h160v-160H400v160Zm0 220h160v-160H400v160ZM180-400h160v-160H180v160Zm440 0h160v-160H620v160ZM180-180h160v-160H180v160Zm440 0h160v-160H620v160Z\"/>\n",
              "  </svg>\n",
              "    </button>\n",
              "\n",
              "  <style>\n",
              "    .colab-df-container {\n",
              "      display:flex;\n",
              "      gap: 12px;\n",
              "    }\n",
              "\n",
              "    .colab-df-convert {\n",
              "      background-color: #E8F0FE;\n",
              "      border: none;\n",
              "      border-radius: 50%;\n",
              "      cursor: pointer;\n",
              "      display: none;\n",
              "      fill: #1967D2;\n",
              "      height: 32px;\n",
              "      padding: 0 0 0 0;\n",
              "      width: 32px;\n",
              "    }\n",
              "\n",
              "    .colab-df-convert:hover {\n",
              "      background-color: #E2EBFA;\n",
              "      box-shadow: 0px 1px 2px rgba(60, 64, 67, 0.3), 0px 1px 3px 1px rgba(60, 64, 67, 0.15);\n",
              "      fill: #174EA6;\n",
              "    }\n",
              "\n",
              "    .colab-df-buttons div {\n",
              "      margin-bottom: 4px;\n",
              "    }\n",
              "\n",
              "    [theme=dark] .colab-df-convert {\n",
              "      background-color: #3B4455;\n",
              "      fill: #D2E3FC;\n",
              "    }\n",
              "\n",
              "    [theme=dark] .colab-df-convert:hover {\n",
              "      background-color: #434B5C;\n",
              "      box-shadow: 0px 1px 3px 1px rgba(0, 0, 0, 0.15);\n",
              "      filter: drop-shadow(0px 1px 2px rgba(0, 0, 0, 0.3));\n",
              "      fill: #FFFFFF;\n",
              "    }\n",
              "  </style>\n",
              "\n",
              "    <script>\n",
              "      const buttonEl =\n",
              "        document.querySelector('#df-f94c91d5-d882-4023-b262-bcf704faaabf button.colab-df-convert');\n",
              "      buttonEl.style.display =\n",
              "        google.colab.kernel.accessAllowed ? 'block' : 'none';\n",
              "\n",
              "      async function convertToInteractive(key) {\n",
              "        const element = document.querySelector('#df-f94c91d5-d882-4023-b262-bcf704faaabf');\n",
              "        const dataTable =\n",
              "          await google.colab.kernel.invokeFunction('convertToInteractive',\n",
              "                                                    [key], {});\n",
              "        if (!dataTable) return;\n",
              "\n",
              "        const docLinkHtml = 'Like what you see? Visit the ' +\n",
              "          '<a target=\"_blank\" href=https://colab.research.google.com/notebooks/data_table.ipynb>data table notebook</a>'\n",
              "          + ' to learn more about interactive tables.';\n",
              "        element.innerHTML = '';\n",
              "        dataTable['output_type'] = 'display_data';\n",
              "        await google.colab.output.renderOutput(dataTable, element);\n",
              "        const docLink = document.createElement('div');\n",
              "        docLink.innerHTML = docLinkHtml;\n",
              "        element.appendChild(docLink);\n",
              "      }\n",
              "    </script>\n",
              "  </div>\n",
              "\n",
              "\n",
              "    <div id=\"df-67a83bf3-1d5b-4aa2-a1cb-59ed38337872\">\n",
              "      <button class=\"colab-df-quickchart\" onclick=\"quickchart('df-67a83bf3-1d5b-4aa2-a1cb-59ed38337872')\"\n",
              "                title=\"Suggest charts\"\n",
              "                style=\"display:none;\">\n",
              "\n",
              "<svg xmlns=\"http://www.w3.org/2000/svg\" height=\"24px\"viewBox=\"0 0 24 24\"\n",
              "     width=\"24px\">\n",
              "    <g>\n",
              "        <path d=\"M19 3H5c-1.1 0-2 .9-2 2v14c0 1.1.9 2 2 2h14c1.1 0 2-.9 2-2V5c0-1.1-.9-2-2-2zM9 17H7v-7h2v7zm4 0h-2V7h2v10zm4 0h-2v-4h2v4z\"/>\n",
              "    </g>\n",
              "</svg>\n",
              "      </button>\n",
              "\n",
              "<style>\n",
              "  .colab-df-quickchart {\n",
              "      --bg-color: #E8F0FE;\n",
              "      --fill-color: #1967D2;\n",
              "      --hover-bg-color: #E2EBFA;\n",
              "      --hover-fill-color: #174EA6;\n",
              "      --disabled-fill-color: #AAA;\n",
              "      --disabled-bg-color: #DDD;\n",
              "  }\n",
              "\n",
              "  [theme=dark] .colab-df-quickchart {\n",
              "      --bg-color: #3B4455;\n",
              "      --fill-color: #D2E3FC;\n",
              "      --hover-bg-color: #434B5C;\n",
              "      --hover-fill-color: #FFFFFF;\n",
              "      --disabled-bg-color: #3B4455;\n",
              "      --disabled-fill-color: #666;\n",
              "  }\n",
              "\n",
              "  .colab-df-quickchart {\n",
              "    background-color: var(--bg-color);\n",
              "    border: none;\n",
              "    border-radius: 50%;\n",
              "    cursor: pointer;\n",
              "    display: none;\n",
              "    fill: var(--fill-color);\n",
              "    height: 32px;\n",
              "    padding: 0;\n",
              "    width: 32px;\n",
              "  }\n",
              "\n",
              "  .colab-df-quickchart:hover {\n",
              "    background-color: var(--hover-bg-color);\n",
              "    box-shadow: 0 1px 2px rgba(60, 64, 67, 0.3), 0 1px 3px 1px rgba(60, 64, 67, 0.15);\n",
              "    fill: var(--button-hover-fill-color);\n",
              "  }\n",
              "\n",
              "  .colab-df-quickchart-complete:disabled,\n",
              "  .colab-df-quickchart-complete:disabled:hover {\n",
              "    background-color: var(--disabled-bg-color);\n",
              "    fill: var(--disabled-fill-color);\n",
              "    box-shadow: none;\n",
              "  }\n",
              "\n",
              "  .colab-df-spinner {\n",
              "    border: 2px solid var(--fill-color);\n",
              "    border-color: transparent;\n",
              "    border-bottom-color: var(--fill-color);\n",
              "    animation:\n",
              "      spin 1s steps(1) infinite;\n",
              "  }\n",
              "\n",
              "  @keyframes spin {\n",
              "    0% {\n",
              "      border-color: transparent;\n",
              "      border-bottom-color: var(--fill-color);\n",
              "      border-left-color: var(--fill-color);\n",
              "    }\n",
              "    20% {\n",
              "      border-color: transparent;\n",
              "      border-left-color: var(--fill-color);\n",
              "      border-top-color: var(--fill-color);\n",
              "    }\n",
              "    30% {\n",
              "      border-color: transparent;\n",
              "      border-left-color: var(--fill-color);\n",
              "      border-top-color: var(--fill-color);\n",
              "      border-right-color: var(--fill-color);\n",
              "    }\n",
              "    40% {\n",
              "      border-color: transparent;\n",
              "      border-right-color: var(--fill-color);\n",
              "      border-top-color: var(--fill-color);\n",
              "    }\n",
              "    60% {\n",
              "      border-color: transparent;\n",
              "      border-right-color: var(--fill-color);\n",
              "    }\n",
              "    80% {\n",
              "      border-color: transparent;\n",
              "      border-right-color: var(--fill-color);\n",
              "      border-bottom-color: var(--fill-color);\n",
              "    }\n",
              "    90% {\n",
              "      border-color: transparent;\n",
              "      border-bottom-color: var(--fill-color);\n",
              "    }\n",
              "  }\n",
              "</style>\n",
              "\n",
              "      <script>\n",
              "        async function quickchart(key) {\n",
              "          const quickchartButtonEl =\n",
              "            document.querySelector('#' + key + ' button');\n",
              "          quickchartButtonEl.disabled = true;  // To prevent multiple clicks.\n",
              "          quickchartButtonEl.classList.add('colab-df-spinner');\n",
              "          try {\n",
              "            const charts = await google.colab.kernel.invokeFunction(\n",
              "                'suggestCharts', [key], {});\n",
              "          } catch (error) {\n",
              "            console.error('Error during call to suggestCharts:', error);\n",
              "          }\n",
              "          quickchartButtonEl.classList.remove('colab-df-spinner');\n",
              "          quickchartButtonEl.classList.add('colab-df-quickchart-complete');\n",
              "        }\n",
              "        (() => {\n",
              "          let quickchartButtonEl =\n",
              "            document.querySelector('#df-67a83bf3-1d5b-4aa2-a1cb-59ed38337872 button');\n",
              "          quickchartButtonEl.style.display =\n",
              "            google.colab.kernel.accessAllowed ? 'block' : 'none';\n",
              "        })();\n",
              "      </script>\n",
              "    </div>\n",
              "\n",
              "    </div>\n",
              "  </div>\n"
            ],
            "application/vnd.google.colaboratory.intrinsic+json": {
              "type": "dataframe",
              "summary": "{\n  \"name\": \"display(df\",\n  \"rows\": 5,\n  \"fields\": [\n    {\n      \"column\": \"AGE\",\n      \"properties\": {\n        \"dtype\": \"number\",\n        \"std\": 17,\n        \"min\": 24,\n        \"max\": 72,\n        \"num_unique_values\": 5,\n        \"samples\": [\n          48,\n          50,\n          72\n        ],\n        \"semantic_type\": \"\",\n        \"description\": \"\"\n      }\n    },\n    {\n      \"column\": \"SEX\",\n      \"properties\": {\n        \"dtype\": \"number\",\n        \"std\": 0,\n        \"min\": 1,\n        \"max\": 2,\n        \"num_unique_values\": 2,\n        \"samples\": [\n          1,\n          2\n        ],\n        \"semantic_type\": \"\",\n        \"description\": \"\"\n      }\n    },\n    {\n      \"column\": \"BMI\",\n      \"properties\": {\n        \"dtype\": \"number\",\n        \"std\": 4.611398920067532,\n        \"min\": 21.6,\n        \"max\": 32.1,\n        \"num_unique_values\": 5,\n        \"samples\": [\n          21.6,\n          23.0\n        ],\n        \"semantic_type\": \"\",\n        \"description\": \"\"\n      }\n    },\n    {\n      \"column\": \"BP\",\n      \"properties\": {\n        \"dtype\": \"number\",\n        \"std\": 7.8230428862431785,\n        \"min\": 84.0,\n        \"max\": 101.0,\n        \"num_unique_values\": 4,\n        \"samples\": [\n          87.0,\n          84.0\n        ],\n        \"semantic_type\": \"\",\n        \"description\": \"\"\n      }\n    },\n    {\n      \"column\": \"S1\",\n      \"properties\": {\n        \"dtype\": \"number\",\n        \"std\": 19,\n        \"min\": 156,\n        \"max\": 198,\n        \"num_unique_values\": 5,\n        \"samples\": [\n          183,\n          192\n        ],\n        \"semantic_type\": \"\",\n        \"description\": \"\"\n      }\n    },\n    {\n      \"column\": \"S2\",\n      \"properties\": {\n        \"dtype\": \"number\",\n        \"std\": 17.961848457216206,\n        \"min\": 93.2,\n        \"max\": 131.4,\n        \"num_unique_values\": 5,\n        \"samples\": [\n          103.2,\n          125.4\n        ],\n        \"semantic_type\": \"\",\n        \"description\": \"\"\n      }\n    },\n    {\n      \"column\": \"S3\",\n      \"properties\": {\n        \"dtype\": \"number\",\n        \"std\": 13.349157276772193,\n        \"min\": 38.0,\n        \"max\": 70.0,\n        \"num_unique_values\": 5,\n        \"samples\": [\n          70.0,\n          52.0\n        ],\n        \"semantic_type\": \"\",\n        \"description\": \"\"\n      }\n    },\n    {\n      \"column\": \"S4\",\n      \"properties\": {\n        \"dtype\": \"number\",\n        \"std\": 0.7071067811865476,\n        \"min\": 3.0,\n        \"max\": 5.0,\n        \"num_unique_values\": 3,\n        \"samples\": [\n          4.0,\n          3.0\n        ],\n        \"semantic_type\": \"\",\n        \"description\": \"\"\n      }\n    },\n    {\n      \"column\": \"S5\",\n      \"properties\": {\n        \"dtype\": \"number\",\n        \"std\": 0.42521584283749353,\n        \"min\": 3.8918,\n        \"max\": 4.8903,\n        \"num_unique_values\": 5,\n        \"samples\": [\n          3.8918,\n          4.2905\n        ],\n        \"semantic_type\": \"\",\n        \"description\": \"\"\n      }\n    },\n    {\n      \"column\": \"S6\",\n      \"properties\": {\n        \"dtype\": \"number\",\n        \"std\": 8,\n        \"min\": 69,\n        \"max\": 89,\n        \"num_unique_values\": 5,\n        \"samples\": [\n          69,\n          80\n        ],\n        \"semantic_type\": \"\",\n        \"description\": \"\"\n      }\n    },\n    {\n      \"column\": \"Y\",\n      \"properties\": {\n        \"dtype\": \"number\",\n        \"std\": 46,\n        \"min\": 75,\n        \"max\": 206,\n        \"num_unique_values\": 5,\n        \"samples\": [\n          75,\n          135\n        ],\n        \"semantic_type\": \"\",\n        \"description\": \"\"\n      }\n    }\n  ]\n}"
            }
          },
          "metadata": {}
        },
        {
          "output_type": "stream",
          "name": "stdout",
          "text": [
            "last five rows\n"
          ]
        },
        {
          "output_type": "display_data",
          "data": {
            "text/plain": [
              "     AGE  SEX   BMI      BP   S1     S2    S3    S4      S5   S6    Y\n",
              "437   60    2  28.2  112.00  185  113.8  42.0  4.00  4.9836   93  178\n",
              "438   47    2  24.9   75.00  225  166.0  42.0  5.00  4.4427  102  104\n",
              "439   60    2  24.9   99.67  162  106.6  43.0  3.77  4.1271   95  132\n",
              "440   36    1  30.0   95.00  201  125.2  42.0  4.79  5.1299   85  220\n",
              "441   36    1  19.6   71.00  250  133.2  97.0  3.00  4.5951   92   57"
            ],
            "text/html": [
              "\n",
              "  <div id=\"df-a5267b2d-2e41-4930-ab42-c5bc1915710f\" class=\"colab-df-container\">\n",
              "    <div>\n",
              "<style scoped>\n",
              "    .dataframe tbody tr th:only-of-type {\n",
              "        vertical-align: middle;\n",
              "    }\n",
              "\n",
              "    .dataframe tbody tr th {\n",
              "        vertical-align: top;\n",
              "    }\n",
              "\n",
              "    .dataframe thead th {\n",
              "        text-align: right;\n",
              "    }\n",
              "</style>\n",
              "<table border=\"1\" class=\"dataframe\">\n",
              "  <thead>\n",
              "    <tr style=\"text-align: right;\">\n",
              "      <th></th>\n",
              "      <th>AGE</th>\n",
              "      <th>SEX</th>\n",
              "      <th>BMI</th>\n",
              "      <th>BP</th>\n",
              "      <th>S1</th>\n",
              "      <th>S2</th>\n",
              "      <th>S3</th>\n",
              "      <th>S4</th>\n",
              "      <th>S5</th>\n",
              "      <th>S6</th>\n",
              "      <th>Y</th>\n",
              "    </tr>\n",
              "  </thead>\n",
              "  <tbody>\n",
              "    <tr>\n",
              "      <th>437</th>\n",
              "      <td>60</td>\n",
              "      <td>2</td>\n",
              "      <td>28.2</td>\n",
              "      <td>112.00</td>\n",
              "      <td>185</td>\n",
              "      <td>113.8</td>\n",
              "      <td>42.0</td>\n",
              "      <td>4.00</td>\n",
              "      <td>4.9836</td>\n",
              "      <td>93</td>\n",
              "      <td>178</td>\n",
              "    </tr>\n",
              "    <tr>\n",
              "      <th>438</th>\n",
              "      <td>47</td>\n",
              "      <td>2</td>\n",
              "      <td>24.9</td>\n",
              "      <td>75.00</td>\n",
              "      <td>225</td>\n",
              "      <td>166.0</td>\n",
              "      <td>42.0</td>\n",
              "      <td>5.00</td>\n",
              "      <td>4.4427</td>\n",
              "      <td>102</td>\n",
              "      <td>104</td>\n",
              "    </tr>\n",
              "    <tr>\n",
              "      <th>439</th>\n",
              "      <td>60</td>\n",
              "      <td>2</td>\n",
              "      <td>24.9</td>\n",
              "      <td>99.67</td>\n",
              "      <td>162</td>\n",
              "      <td>106.6</td>\n",
              "      <td>43.0</td>\n",
              "      <td>3.77</td>\n",
              "      <td>4.1271</td>\n",
              "      <td>95</td>\n",
              "      <td>132</td>\n",
              "    </tr>\n",
              "    <tr>\n",
              "      <th>440</th>\n",
              "      <td>36</td>\n",
              "      <td>1</td>\n",
              "      <td>30.0</td>\n",
              "      <td>95.00</td>\n",
              "      <td>201</td>\n",
              "      <td>125.2</td>\n",
              "      <td>42.0</td>\n",
              "      <td>4.79</td>\n",
              "      <td>5.1299</td>\n",
              "      <td>85</td>\n",
              "      <td>220</td>\n",
              "    </tr>\n",
              "    <tr>\n",
              "      <th>441</th>\n",
              "      <td>36</td>\n",
              "      <td>1</td>\n",
              "      <td>19.6</td>\n",
              "      <td>71.00</td>\n",
              "      <td>250</td>\n",
              "      <td>133.2</td>\n",
              "      <td>97.0</td>\n",
              "      <td>3.00</td>\n",
              "      <td>4.5951</td>\n",
              "      <td>92</td>\n",
              "      <td>57</td>\n",
              "    </tr>\n",
              "  </tbody>\n",
              "</table>\n",
              "</div>\n",
              "    <div class=\"colab-df-buttons\">\n",
              "\n",
              "  <div class=\"colab-df-container\">\n",
              "    <button class=\"colab-df-convert\" onclick=\"convertToInteractive('df-a5267b2d-2e41-4930-ab42-c5bc1915710f')\"\n",
              "            title=\"Convert this dataframe to an interactive table.\"\n",
              "            style=\"display:none;\">\n",
              "\n",
              "  <svg xmlns=\"http://www.w3.org/2000/svg\" height=\"24px\" viewBox=\"0 -960 960 960\">\n",
              "    <path d=\"M120-120v-720h720v720H120Zm60-500h600v-160H180v160Zm220 220h160v-160H400v160Zm0 220h160v-160H400v160ZM180-400h160v-160H180v160Zm440 0h160v-160H620v160ZM180-180h160v-160H180v160Zm440 0h160v-160H620v160Z\"/>\n",
              "  </svg>\n",
              "    </button>\n",
              "\n",
              "  <style>\n",
              "    .colab-df-container {\n",
              "      display:flex;\n",
              "      gap: 12px;\n",
              "    }\n",
              "\n",
              "    .colab-df-convert {\n",
              "      background-color: #E8F0FE;\n",
              "      border: none;\n",
              "      border-radius: 50%;\n",
              "      cursor: pointer;\n",
              "      display: none;\n",
              "      fill: #1967D2;\n",
              "      height: 32px;\n",
              "      padding: 0 0 0 0;\n",
              "      width: 32px;\n",
              "    }\n",
              "\n",
              "    .colab-df-convert:hover {\n",
              "      background-color: #E2EBFA;\n",
              "      box-shadow: 0px 1px 2px rgba(60, 64, 67, 0.3), 0px 1px 3px 1px rgba(60, 64, 67, 0.15);\n",
              "      fill: #174EA6;\n",
              "    }\n",
              "\n",
              "    .colab-df-buttons div {\n",
              "      margin-bottom: 4px;\n",
              "    }\n",
              "\n",
              "    [theme=dark] .colab-df-convert {\n",
              "      background-color: #3B4455;\n",
              "      fill: #D2E3FC;\n",
              "    }\n",
              "\n",
              "    [theme=dark] .colab-df-convert:hover {\n",
              "      background-color: #434B5C;\n",
              "      box-shadow: 0px 1px 3px 1px rgba(0, 0, 0, 0.15);\n",
              "      filter: drop-shadow(0px 1px 2px rgba(0, 0, 0, 0.3));\n",
              "      fill: #FFFFFF;\n",
              "    }\n",
              "  </style>\n",
              "\n",
              "    <script>\n",
              "      const buttonEl =\n",
              "        document.querySelector('#df-a5267b2d-2e41-4930-ab42-c5bc1915710f button.colab-df-convert');\n",
              "      buttonEl.style.display =\n",
              "        google.colab.kernel.accessAllowed ? 'block' : 'none';\n",
              "\n",
              "      async function convertToInteractive(key) {\n",
              "        const element = document.querySelector('#df-a5267b2d-2e41-4930-ab42-c5bc1915710f');\n",
              "        const dataTable =\n",
              "          await google.colab.kernel.invokeFunction('convertToInteractive',\n",
              "                                                    [key], {});\n",
              "        if (!dataTable) return;\n",
              "\n",
              "        const docLinkHtml = 'Like what you see? Visit the ' +\n",
              "          '<a target=\"_blank\" href=https://colab.research.google.com/notebooks/data_table.ipynb>data table notebook</a>'\n",
              "          + ' to learn more about interactive tables.';\n",
              "        element.innerHTML = '';\n",
              "        dataTable['output_type'] = 'display_data';\n",
              "        await google.colab.output.renderOutput(dataTable, element);\n",
              "        const docLink = document.createElement('div');\n",
              "        docLink.innerHTML = docLinkHtml;\n",
              "        element.appendChild(docLink);\n",
              "      }\n",
              "    </script>\n",
              "  </div>\n",
              "\n",
              "\n",
              "    <div id=\"df-ff42782b-62e5-4a45-b145-92275f8d9e6b\">\n",
              "      <button class=\"colab-df-quickchart\" onclick=\"quickchart('df-ff42782b-62e5-4a45-b145-92275f8d9e6b')\"\n",
              "                title=\"Suggest charts\"\n",
              "                style=\"display:none;\">\n",
              "\n",
              "<svg xmlns=\"http://www.w3.org/2000/svg\" height=\"24px\"viewBox=\"0 0 24 24\"\n",
              "     width=\"24px\">\n",
              "    <g>\n",
              "        <path d=\"M19 3H5c-1.1 0-2 .9-2 2v14c0 1.1.9 2 2 2h14c1.1 0 2-.9 2-2V5c0-1.1-.9-2-2-2zM9 17H7v-7h2v7zm4 0h-2V7h2v10zm4 0h-2v-4h2v4z\"/>\n",
              "    </g>\n",
              "</svg>\n",
              "      </button>\n",
              "\n",
              "<style>\n",
              "  .colab-df-quickchart {\n",
              "      --bg-color: #E8F0FE;\n",
              "      --fill-color: #1967D2;\n",
              "      --hover-bg-color: #E2EBFA;\n",
              "      --hover-fill-color: #174EA6;\n",
              "      --disabled-fill-color: #AAA;\n",
              "      --disabled-bg-color: #DDD;\n",
              "  }\n",
              "\n",
              "  [theme=dark] .colab-df-quickchart {\n",
              "      --bg-color: #3B4455;\n",
              "      --fill-color: #D2E3FC;\n",
              "      --hover-bg-color: #434B5C;\n",
              "      --hover-fill-color: #FFFFFF;\n",
              "      --disabled-bg-color: #3B4455;\n",
              "      --disabled-fill-color: #666;\n",
              "  }\n",
              "\n",
              "  .colab-df-quickchart {\n",
              "    background-color: var(--bg-color);\n",
              "    border: none;\n",
              "    border-radius: 50%;\n",
              "    cursor: pointer;\n",
              "    display: none;\n",
              "    fill: var(--fill-color);\n",
              "    height: 32px;\n",
              "    padding: 0;\n",
              "    width: 32px;\n",
              "  }\n",
              "\n",
              "  .colab-df-quickchart:hover {\n",
              "    background-color: var(--hover-bg-color);\n",
              "    box-shadow: 0 1px 2px rgba(60, 64, 67, 0.3), 0 1px 3px 1px rgba(60, 64, 67, 0.15);\n",
              "    fill: var(--button-hover-fill-color);\n",
              "  }\n",
              "\n",
              "  .colab-df-quickchart-complete:disabled,\n",
              "  .colab-df-quickchart-complete:disabled:hover {\n",
              "    background-color: var(--disabled-bg-color);\n",
              "    fill: var(--disabled-fill-color);\n",
              "    box-shadow: none;\n",
              "  }\n",
              "\n",
              "  .colab-df-spinner {\n",
              "    border: 2px solid var(--fill-color);\n",
              "    border-color: transparent;\n",
              "    border-bottom-color: var(--fill-color);\n",
              "    animation:\n",
              "      spin 1s steps(1) infinite;\n",
              "  }\n",
              "\n",
              "  @keyframes spin {\n",
              "    0% {\n",
              "      border-color: transparent;\n",
              "      border-bottom-color: var(--fill-color);\n",
              "      border-left-color: var(--fill-color);\n",
              "    }\n",
              "    20% {\n",
              "      border-color: transparent;\n",
              "      border-left-color: var(--fill-color);\n",
              "      border-top-color: var(--fill-color);\n",
              "    }\n",
              "    30% {\n",
              "      border-color: transparent;\n",
              "      border-left-color: var(--fill-color);\n",
              "      border-top-color: var(--fill-color);\n",
              "      border-right-color: var(--fill-color);\n",
              "    }\n",
              "    40% {\n",
              "      border-color: transparent;\n",
              "      border-right-color: var(--fill-color);\n",
              "      border-top-color: var(--fill-color);\n",
              "    }\n",
              "    60% {\n",
              "      border-color: transparent;\n",
              "      border-right-color: var(--fill-color);\n",
              "    }\n",
              "    80% {\n",
              "      border-color: transparent;\n",
              "      border-right-color: var(--fill-color);\n",
              "      border-bottom-color: var(--fill-color);\n",
              "    }\n",
              "    90% {\n",
              "      border-color: transparent;\n",
              "      border-bottom-color: var(--fill-color);\n",
              "    }\n",
              "  }\n",
              "</style>\n",
              "\n",
              "      <script>\n",
              "        async function quickchart(key) {\n",
              "          const quickchartButtonEl =\n",
              "            document.querySelector('#' + key + ' button');\n",
              "          quickchartButtonEl.disabled = true;  // To prevent multiple clicks.\n",
              "          quickchartButtonEl.classList.add('colab-df-spinner');\n",
              "          try {\n",
              "            const charts = await google.colab.kernel.invokeFunction(\n",
              "                'suggestCharts', [key], {});\n",
              "          } catch (error) {\n",
              "            console.error('Error during call to suggestCharts:', error);\n",
              "          }\n",
              "          quickchartButtonEl.classList.remove('colab-df-spinner');\n",
              "          quickchartButtonEl.classList.add('colab-df-quickchart-complete');\n",
              "        }\n",
              "        (() => {\n",
              "          let quickchartButtonEl =\n",
              "            document.querySelector('#df-ff42782b-62e5-4a45-b145-92275f8d9e6b button');\n",
              "          quickchartButtonEl.style.display =\n",
              "            google.colab.kernel.accessAllowed ? 'block' : 'none';\n",
              "        })();\n",
              "      </script>\n",
              "    </div>\n",
              "\n",
              "    </div>\n",
              "  </div>\n"
            ],
            "application/vnd.google.colaboratory.intrinsic+json": {
              "type": "dataframe",
              "summary": "{\n  \"name\": \"display(df\",\n  \"rows\": 5,\n  \"fields\": [\n    {\n      \"column\": \"AGE\",\n      \"properties\": {\n        \"dtype\": \"number\",\n        \"std\": 12,\n        \"min\": 36,\n        \"max\": 60,\n        \"num_unique_values\": 3,\n        \"samples\": [\n          60,\n          47,\n          36\n        ],\n        \"semantic_type\": \"\",\n        \"description\": \"\"\n      }\n    },\n    {\n      \"column\": \"SEX\",\n      \"properties\": {\n        \"dtype\": \"number\",\n        \"std\": 0,\n        \"min\": 1,\n        \"max\": 2,\n        \"num_unique_values\": 2,\n        \"samples\": [\n          1,\n          2\n        ],\n        \"semantic_type\": \"\",\n        \"description\": \"\"\n      }\n    },\n    {\n      \"column\": \"BMI\",\n      \"properties\": {\n        \"dtype\": \"number\",\n        \"std\": 3.970768187643292,\n        \"min\": 19.6,\n        \"max\": 30.0,\n        \"num_unique_values\": 4,\n        \"samples\": [\n          24.9,\n          19.6\n        ],\n        \"semantic_type\": \"\",\n        \"description\": \"\"\n      }\n    },\n    {\n      \"column\": \"BP\",\n      \"properties\": {\n        \"dtype\": \"number\",\n        \"std\": 17.227036309243676,\n        \"min\": 71.0,\n        \"max\": 112.0,\n        \"num_unique_values\": 5,\n        \"samples\": [\n          75.0,\n          71.0\n        ],\n        \"semantic_type\": \"\",\n        \"description\": \"\"\n      }\n    },\n    {\n      \"column\": \"S1\",\n      \"properties\": {\n        \"dtype\": \"number\",\n        \"std\": 34,\n        \"min\": 162,\n        \"max\": 250,\n        \"num_unique_values\": 5,\n        \"samples\": [\n          225,\n          250\n        ],\n        \"semantic_type\": \"\",\n        \"description\": \"\"\n      }\n    },\n    {\n      \"column\": \"S2\",\n      \"properties\": {\n        \"dtype\": \"number\",\n        \"std\": 23.096926202419233,\n        \"min\": 106.6,\n        \"max\": 166.0,\n        \"num_unique_values\": 5,\n        \"samples\": [\n          166.0,\n          133.2\n        ],\n        \"semantic_type\": \"\",\n        \"description\": \"\"\n      }\n    },\n    {\n      \"column\": \"S3\",\n      \"properties\": {\n        \"dtype\": \"number\",\n        \"std\": 24.488772937817853,\n        \"min\": 42.0,\n        \"max\": 97.0,\n        \"num_unique_values\": 3,\n        \"samples\": [\n          42.0,\n          43.0\n        ],\n        \"semantic_type\": \"\",\n        \"description\": \"\"\n      }\n    },\n    {\n      \"column\": \"S4\",\n      \"properties\": {\n        \"dtype\": \"number\",\n        \"std\": 0.8084367631423004,\n        \"min\": 3.0,\n        \"max\": 5.0,\n        \"num_unique_values\": 5,\n        \"samples\": [\n          5.0,\n          3.0\n        ],\n        \"semantic_type\": \"\",\n        \"description\": \"\"\n      }\n    },\n    {\n      \"column\": \"S5\",\n      \"properties\": {\n        \"dtype\": \"number\",\n        \"std\": 0.4064613659377726,\n        \"min\": 4.1271,\n        \"max\": 5.1299,\n        \"num_unique_values\": 5,\n        \"samples\": [\n          4.4427,\n          4.5951\n        ],\n        \"semantic_type\": \"\",\n        \"description\": \"\"\n      }\n    },\n    {\n      \"column\": \"S6\",\n      \"properties\": {\n        \"dtype\": \"number\",\n        \"std\": 6,\n        \"min\": 85,\n        \"max\": 102,\n        \"num_unique_values\": 5,\n        \"samples\": [\n          102,\n          92\n        ],\n        \"semantic_type\": \"\",\n        \"description\": \"\"\n      }\n    },\n    {\n      \"column\": \"Y\",\n      \"properties\": {\n        \"dtype\": \"number\",\n        \"std\": 63,\n        \"min\": 57,\n        \"max\": 220,\n        \"num_unique_values\": 5,\n        \"samples\": [\n          104,\n          57\n        ],\n        \"semantic_type\": \"\",\n        \"description\": \"\"\n      }\n    }\n  ]\n}"
            }
          },
          "metadata": {}
        }
      ]
    },
    {
      "cell_type": "markdown",
      "source": [
        "We observe that some features have conditional names ```s#```.\n",
        "\n",
        "Rename these columns according to the dataset description that you can find on dedicated sklearn page(tc, ldl, ...)"
      ],
      "metadata": {
        "id": "QFw5n7xpaTO6"
      }
    },
    {
      "cell_type": "code",
      "source": [
        "''' - age     age in years\n",
        "    - sex\n",
        "    - bmi     body mass index\n",
        "    - bp      average blood pressure\n",
        "    - s1      tc, total serum cholesterol\n",
        "    - s2      ldl, low-density lipoproteins\n",
        "    - s3      hdl, high-density lipoproteins\n",
        "    - s4      tch, total cholesterol / HDL\n",
        "    - s5      ltg, possibly log of serum triglycerides level\n",
        "    - s6      glu, blood sugar level '''\n",
        "\n",
        "df = df.rename(columns={\n",
        "    'S1':'tc',\n",
        "    'S2':'ldl',\n",
        "    'S3':'hdl',\n",
        "    'S4':'tch',\n",
        "    'S5':'ltg',\n",
        "    'S6':'glu'\n",
        "})\n",
        "df.head()"
      ],
      "metadata": {
        "id": "D3hbz0HUafx9",
        "outputId": "00201995-2671-4a61-def9-e67895f3cec2",
        "colab": {
          "base_uri": "https://localhost:8080/",
          "height": 204
        }
      },
      "execution_count": 13,
      "outputs": [
        {
          "output_type": "execute_result",
          "data": {
            "text/plain": [
              "   AGE  SEX   BMI     BP   tc    ldl   hdl  tch     ltg  glu    Y\n",
              "0   59    2  32.1  101.0  157   93.2  38.0  4.0  4.8598   87  151\n",
              "1   48    1  21.6   87.0  183  103.2  70.0  3.0  3.8918   69   75\n",
              "2   72    2  30.5   93.0  156   93.6  41.0  4.0  4.6728   85  141\n",
              "3   24    1  25.3   84.0  198  131.4  40.0  5.0  4.8903   89  206\n",
              "4   50    1  23.0  101.0  192  125.4  52.0  4.0  4.2905   80  135"
            ],
            "text/html": [
              "\n",
              "  <div id=\"df-02fa9139-6507-4d0e-9495-6c0fbb9d3d71\" class=\"colab-df-container\">\n",
              "    <div>\n",
              "<style scoped>\n",
              "    .dataframe tbody tr th:only-of-type {\n",
              "        vertical-align: middle;\n",
              "    }\n",
              "\n",
              "    .dataframe tbody tr th {\n",
              "        vertical-align: top;\n",
              "    }\n",
              "\n",
              "    .dataframe thead th {\n",
              "        text-align: right;\n",
              "    }\n",
              "</style>\n",
              "<table border=\"1\" class=\"dataframe\">\n",
              "  <thead>\n",
              "    <tr style=\"text-align: right;\">\n",
              "      <th></th>\n",
              "      <th>AGE</th>\n",
              "      <th>SEX</th>\n",
              "      <th>BMI</th>\n",
              "      <th>BP</th>\n",
              "      <th>tc</th>\n",
              "      <th>ldl</th>\n",
              "      <th>hdl</th>\n",
              "      <th>tch</th>\n",
              "      <th>ltg</th>\n",
              "      <th>glu</th>\n",
              "      <th>Y</th>\n",
              "    </tr>\n",
              "  </thead>\n",
              "  <tbody>\n",
              "    <tr>\n",
              "      <th>0</th>\n",
              "      <td>59</td>\n",
              "      <td>2</td>\n",
              "      <td>32.1</td>\n",
              "      <td>101.0</td>\n",
              "      <td>157</td>\n",
              "      <td>93.2</td>\n",
              "      <td>38.0</td>\n",
              "      <td>4.0</td>\n",
              "      <td>4.8598</td>\n",
              "      <td>87</td>\n",
              "      <td>151</td>\n",
              "    </tr>\n",
              "    <tr>\n",
              "      <th>1</th>\n",
              "      <td>48</td>\n",
              "      <td>1</td>\n",
              "      <td>21.6</td>\n",
              "      <td>87.0</td>\n",
              "      <td>183</td>\n",
              "      <td>103.2</td>\n",
              "      <td>70.0</td>\n",
              "      <td>3.0</td>\n",
              "      <td>3.8918</td>\n",
              "      <td>69</td>\n",
              "      <td>75</td>\n",
              "    </tr>\n",
              "    <tr>\n",
              "      <th>2</th>\n",
              "      <td>72</td>\n",
              "      <td>2</td>\n",
              "      <td>30.5</td>\n",
              "      <td>93.0</td>\n",
              "      <td>156</td>\n",
              "      <td>93.6</td>\n",
              "      <td>41.0</td>\n",
              "      <td>4.0</td>\n",
              "      <td>4.6728</td>\n",
              "      <td>85</td>\n",
              "      <td>141</td>\n",
              "    </tr>\n",
              "    <tr>\n",
              "      <th>3</th>\n",
              "      <td>24</td>\n",
              "      <td>1</td>\n",
              "      <td>25.3</td>\n",
              "      <td>84.0</td>\n",
              "      <td>198</td>\n",
              "      <td>131.4</td>\n",
              "      <td>40.0</td>\n",
              "      <td>5.0</td>\n",
              "      <td>4.8903</td>\n",
              "      <td>89</td>\n",
              "      <td>206</td>\n",
              "    </tr>\n",
              "    <tr>\n",
              "      <th>4</th>\n",
              "      <td>50</td>\n",
              "      <td>1</td>\n",
              "      <td>23.0</td>\n",
              "      <td>101.0</td>\n",
              "      <td>192</td>\n",
              "      <td>125.4</td>\n",
              "      <td>52.0</td>\n",
              "      <td>4.0</td>\n",
              "      <td>4.2905</td>\n",
              "      <td>80</td>\n",
              "      <td>135</td>\n",
              "    </tr>\n",
              "  </tbody>\n",
              "</table>\n",
              "</div>\n",
              "    <div class=\"colab-df-buttons\">\n",
              "\n",
              "  <div class=\"colab-df-container\">\n",
              "    <button class=\"colab-df-convert\" onclick=\"convertToInteractive('df-02fa9139-6507-4d0e-9495-6c0fbb9d3d71')\"\n",
              "            title=\"Convert this dataframe to an interactive table.\"\n",
              "            style=\"display:none;\">\n",
              "\n",
              "  <svg xmlns=\"http://www.w3.org/2000/svg\" height=\"24px\" viewBox=\"0 -960 960 960\">\n",
              "    <path d=\"M120-120v-720h720v720H120Zm60-500h600v-160H180v160Zm220 220h160v-160H400v160Zm0 220h160v-160H400v160ZM180-400h160v-160H180v160Zm440 0h160v-160H620v160ZM180-180h160v-160H180v160Zm440 0h160v-160H620v160Z\"/>\n",
              "  </svg>\n",
              "    </button>\n",
              "\n",
              "  <style>\n",
              "    .colab-df-container {\n",
              "      display:flex;\n",
              "      gap: 12px;\n",
              "    }\n",
              "\n",
              "    .colab-df-convert {\n",
              "      background-color: #E8F0FE;\n",
              "      border: none;\n",
              "      border-radius: 50%;\n",
              "      cursor: pointer;\n",
              "      display: none;\n",
              "      fill: #1967D2;\n",
              "      height: 32px;\n",
              "      padding: 0 0 0 0;\n",
              "      width: 32px;\n",
              "    }\n",
              "\n",
              "    .colab-df-convert:hover {\n",
              "      background-color: #E2EBFA;\n",
              "      box-shadow: 0px 1px 2px rgba(60, 64, 67, 0.3), 0px 1px 3px 1px rgba(60, 64, 67, 0.15);\n",
              "      fill: #174EA6;\n",
              "    }\n",
              "\n",
              "    .colab-df-buttons div {\n",
              "      margin-bottom: 4px;\n",
              "    }\n",
              "\n",
              "    [theme=dark] .colab-df-convert {\n",
              "      background-color: #3B4455;\n",
              "      fill: #D2E3FC;\n",
              "    }\n",
              "\n",
              "    [theme=dark] .colab-df-convert:hover {\n",
              "      background-color: #434B5C;\n",
              "      box-shadow: 0px 1px 3px 1px rgba(0, 0, 0, 0.15);\n",
              "      filter: drop-shadow(0px 1px 2px rgba(0, 0, 0, 0.3));\n",
              "      fill: #FFFFFF;\n",
              "    }\n",
              "  </style>\n",
              "\n",
              "    <script>\n",
              "      const buttonEl =\n",
              "        document.querySelector('#df-02fa9139-6507-4d0e-9495-6c0fbb9d3d71 button.colab-df-convert');\n",
              "      buttonEl.style.display =\n",
              "        google.colab.kernel.accessAllowed ? 'block' : 'none';\n",
              "\n",
              "      async function convertToInteractive(key) {\n",
              "        const element = document.querySelector('#df-02fa9139-6507-4d0e-9495-6c0fbb9d3d71');\n",
              "        const dataTable =\n",
              "          await google.colab.kernel.invokeFunction('convertToInteractive',\n",
              "                                                    [key], {});\n",
              "        if (!dataTable) return;\n",
              "\n",
              "        const docLinkHtml = 'Like what you see? Visit the ' +\n",
              "          '<a target=\"_blank\" href=https://colab.research.google.com/notebooks/data_table.ipynb>data table notebook</a>'\n",
              "          + ' to learn more about interactive tables.';\n",
              "        element.innerHTML = '';\n",
              "        dataTable['output_type'] = 'display_data';\n",
              "        await google.colab.output.renderOutput(dataTable, element);\n",
              "        const docLink = document.createElement('div');\n",
              "        docLink.innerHTML = docLinkHtml;\n",
              "        element.appendChild(docLink);\n",
              "      }\n",
              "    </script>\n",
              "  </div>\n",
              "\n",
              "\n",
              "    <div id=\"df-7e0c1cd2-2f6a-43eb-b6d3-485cc0b5aec6\">\n",
              "      <button class=\"colab-df-quickchart\" onclick=\"quickchart('df-7e0c1cd2-2f6a-43eb-b6d3-485cc0b5aec6')\"\n",
              "                title=\"Suggest charts\"\n",
              "                style=\"display:none;\">\n",
              "\n",
              "<svg xmlns=\"http://www.w3.org/2000/svg\" height=\"24px\"viewBox=\"0 0 24 24\"\n",
              "     width=\"24px\">\n",
              "    <g>\n",
              "        <path d=\"M19 3H5c-1.1 0-2 .9-2 2v14c0 1.1.9 2 2 2h14c1.1 0 2-.9 2-2V5c0-1.1-.9-2-2-2zM9 17H7v-7h2v7zm4 0h-2V7h2v10zm4 0h-2v-4h2v4z\"/>\n",
              "    </g>\n",
              "</svg>\n",
              "      </button>\n",
              "\n",
              "<style>\n",
              "  .colab-df-quickchart {\n",
              "      --bg-color: #E8F0FE;\n",
              "      --fill-color: #1967D2;\n",
              "      --hover-bg-color: #E2EBFA;\n",
              "      --hover-fill-color: #174EA6;\n",
              "      --disabled-fill-color: #AAA;\n",
              "      --disabled-bg-color: #DDD;\n",
              "  }\n",
              "\n",
              "  [theme=dark] .colab-df-quickchart {\n",
              "      --bg-color: #3B4455;\n",
              "      --fill-color: #D2E3FC;\n",
              "      --hover-bg-color: #434B5C;\n",
              "      --hover-fill-color: #FFFFFF;\n",
              "      --disabled-bg-color: #3B4455;\n",
              "      --disabled-fill-color: #666;\n",
              "  }\n",
              "\n",
              "  .colab-df-quickchart {\n",
              "    background-color: var(--bg-color);\n",
              "    border: none;\n",
              "    border-radius: 50%;\n",
              "    cursor: pointer;\n",
              "    display: none;\n",
              "    fill: var(--fill-color);\n",
              "    height: 32px;\n",
              "    padding: 0;\n",
              "    width: 32px;\n",
              "  }\n",
              "\n",
              "  .colab-df-quickchart:hover {\n",
              "    background-color: var(--hover-bg-color);\n",
              "    box-shadow: 0 1px 2px rgba(60, 64, 67, 0.3), 0 1px 3px 1px rgba(60, 64, 67, 0.15);\n",
              "    fill: var(--button-hover-fill-color);\n",
              "  }\n",
              "\n",
              "  .colab-df-quickchart-complete:disabled,\n",
              "  .colab-df-quickchart-complete:disabled:hover {\n",
              "    background-color: var(--disabled-bg-color);\n",
              "    fill: var(--disabled-fill-color);\n",
              "    box-shadow: none;\n",
              "  }\n",
              "\n",
              "  .colab-df-spinner {\n",
              "    border: 2px solid var(--fill-color);\n",
              "    border-color: transparent;\n",
              "    border-bottom-color: var(--fill-color);\n",
              "    animation:\n",
              "      spin 1s steps(1) infinite;\n",
              "  }\n",
              "\n",
              "  @keyframes spin {\n",
              "    0% {\n",
              "      border-color: transparent;\n",
              "      border-bottom-color: var(--fill-color);\n",
              "      border-left-color: var(--fill-color);\n",
              "    }\n",
              "    20% {\n",
              "      border-color: transparent;\n",
              "      border-left-color: var(--fill-color);\n",
              "      border-top-color: var(--fill-color);\n",
              "    }\n",
              "    30% {\n",
              "      border-color: transparent;\n",
              "      border-left-color: var(--fill-color);\n",
              "      border-top-color: var(--fill-color);\n",
              "      border-right-color: var(--fill-color);\n",
              "    }\n",
              "    40% {\n",
              "      border-color: transparent;\n",
              "      border-right-color: var(--fill-color);\n",
              "      border-top-color: var(--fill-color);\n",
              "    }\n",
              "    60% {\n",
              "      border-color: transparent;\n",
              "      border-right-color: var(--fill-color);\n",
              "    }\n",
              "    80% {\n",
              "      border-color: transparent;\n",
              "      border-right-color: var(--fill-color);\n",
              "      border-bottom-color: var(--fill-color);\n",
              "    }\n",
              "    90% {\n",
              "      border-color: transparent;\n",
              "      border-bottom-color: var(--fill-color);\n",
              "    }\n",
              "  }\n",
              "</style>\n",
              "\n",
              "      <script>\n",
              "        async function quickchart(key) {\n",
              "          const quickchartButtonEl =\n",
              "            document.querySelector('#' + key + ' button');\n",
              "          quickchartButtonEl.disabled = true;  // To prevent multiple clicks.\n",
              "          quickchartButtonEl.classList.add('colab-df-spinner');\n",
              "          try {\n",
              "            const charts = await google.colab.kernel.invokeFunction(\n",
              "                'suggestCharts', [key], {});\n",
              "          } catch (error) {\n",
              "            console.error('Error during call to suggestCharts:', error);\n",
              "          }\n",
              "          quickchartButtonEl.classList.remove('colab-df-spinner');\n",
              "          quickchartButtonEl.classList.add('colab-df-quickchart-complete');\n",
              "        }\n",
              "        (() => {\n",
              "          let quickchartButtonEl =\n",
              "            document.querySelector('#df-7e0c1cd2-2f6a-43eb-b6d3-485cc0b5aec6 button');\n",
              "          quickchartButtonEl.style.display =\n",
              "            google.colab.kernel.accessAllowed ? 'block' : 'none';\n",
              "        })();\n",
              "      </script>\n",
              "    </div>\n",
              "\n",
              "    </div>\n",
              "  </div>\n"
            ],
            "application/vnd.google.colaboratory.intrinsic+json": {
              "type": "dataframe",
              "variable_name": "df",
              "summary": "{\n  \"name\": \"df\",\n  \"rows\": 442,\n  \"fields\": [\n    {\n      \"column\": \"AGE\",\n      \"properties\": {\n        \"dtype\": \"number\",\n        \"std\": 13,\n        \"min\": 19,\n        \"max\": 79,\n        \"num_unique_values\": 58,\n        \"samples\": [\n          59,\n          23,\n          54\n        ],\n        \"semantic_type\": \"\",\n        \"description\": \"\"\n      }\n    },\n    {\n      \"column\": \"SEX\",\n      \"properties\": {\n        \"dtype\": \"number\",\n        \"std\": 0,\n        \"min\": 1,\n        \"max\": 2,\n        \"num_unique_values\": 2,\n        \"samples\": [\n          1,\n          2\n        ],\n        \"semantic_type\": \"\",\n        \"description\": \"\"\n      }\n    },\n    {\n      \"column\": \"BMI\",\n      \"properties\": {\n        \"dtype\": \"number\",\n        \"std\": 4.4181215606157735,\n        \"min\": 18.0,\n        \"max\": 42.2,\n        \"num_unique_values\": 163,\n        \"samples\": [\n          27.2,\n          21.3\n        ],\n        \"semantic_type\": \"\",\n        \"description\": \"\"\n      }\n    },\n    {\n      \"column\": \"BP\",\n      \"properties\": {\n        \"dtype\": \"number\",\n        \"std\": 13.831283419783,\n        \"min\": 62.0,\n        \"max\": 133.0,\n        \"num_unique_values\": 100,\n        \"samples\": [\n          104.33,\n          102.0\n        ],\n        \"semantic_type\": \"\",\n        \"description\": \"\"\n      }\n    },\n    {\n      \"column\": \"tc\",\n      \"properties\": {\n        \"dtype\": \"number\",\n        \"std\": 34,\n        \"min\": 97,\n        \"max\": 301,\n        \"num_unique_values\": 141,\n        \"samples\": [\n          219,\n          250\n        ],\n        \"semantic_type\": \"\",\n        \"description\": \"\"\n      }\n    },\n    {\n      \"column\": \"ldl\",\n      \"properties\": {\n        \"dtype\": \"number\",\n        \"std\": 30.413080969276532,\n        \"min\": 41.6,\n        \"max\": 242.4,\n        \"num_unique_values\": 302,\n        \"samples\": [\n          162.8,\n          160.2\n        ],\n        \"semantic_type\": \"\",\n        \"description\": \"\"\n      }\n    },\n    {\n      \"column\": \"hdl\",\n      \"properties\": {\n        \"dtype\": \"number\",\n        \"std\": 12.934202154863332,\n        \"min\": 22.0,\n        \"max\": 99.0,\n        \"num_unique_values\": 63,\n        \"samples\": [\n          75.0,\n          93.0\n        ],\n        \"semantic_type\": \"\",\n        \"description\": \"\"\n      }\n    },\n    {\n      \"column\": \"tch\",\n      \"properties\": {\n        \"dtype\": \"number\",\n        \"std\": 1.2904498966082774,\n        \"min\": 2.0,\n        \"max\": 9.09,\n        \"num_unique_values\": 66,\n        \"samples\": [\n          6.42,\n          3.4\n        ],\n        \"semantic_type\": \"\",\n        \"description\": \"\"\n      }\n    },\n    {\n      \"column\": \"ltg\",\n      \"properties\": {\n        \"dtype\": \"number\",\n        \"std\": 0.5223905610694908,\n        \"min\": 3.2581,\n        \"max\": 6.107,\n        \"num_unique_values\": 184,\n        \"samples\": [\n          3.8501,\n          4.4067\n        ],\n        \"semantic_type\": \"\",\n        \"description\": \"\"\n      }\n    },\n    {\n      \"column\": \"glu\",\n      \"properties\": {\n        \"dtype\": \"number\",\n        \"std\": 11,\n        \"min\": 58,\n        \"max\": 124,\n        \"num_unique_values\": 56,\n        \"samples\": [\n          87,\n          68\n        ],\n        \"semantic_type\": \"\",\n        \"description\": \"\"\n      }\n    },\n    {\n      \"column\": \"Y\",\n      \"properties\": {\n        \"dtype\": \"number\",\n        \"std\": 77,\n        \"min\": 25,\n        \"max\": 346,\n        \"num_unique_values\": 214,\n        \"samples\": [\n          310,\n          140\n        ],\n        \"semantic_type\": \"\",\n        \"description\": \"\"\n      }\n    }\n  ]\n}"
            }
          },
          "metadata": {},
          "execution_count": 13
        }
      ]
    },
    {
      "cell_type": "markdown",
      "source": [
        "Display the data type of each column:"
      ],
      "metadata": {
        "id": "1LI417ticGry"
      }
    },
    {
      "cell_type": "code",
      "source": [
        "df.dtypes"
      ],
      "metadata": {
        "id": "Jm7ZqhF4cIs6",
        "outputId": "78815408-472e-4e71-93b1-52ffcf6d38fe",
        "colab": {
          "base_uri": "https://localhost:8080/",
          "height": 424
        }
      },
      "execution_count": 14,
      "outputs": [
        {
          "output_type": "execute_result",
          "data": {
            "text/plain": [
              "AGE      int64\n",
              "SEX      int64\n",
              "BMI    float64\n",
              "BP     float64\n",
              "tc       int64\n",
              "ldl    float64\n",
              "hdl    float64\n",
              "tch    float64\n",
              "ltg    float64\n",
              "glu      int64\n",
              "Y        int64\n",
              "dtype: object"
            ],
            "text/html": [
              "<div>\n",
              "<style scoped>\n",
              "    .dataframe tbody tr th:only-of-type {\n",
              "        vertical-align: middle;\n",
              "    }\n",
              "\n",
              "    .dataframe tbody tr th {\n",
              "        vertical-align: top;\n",
              "    }\n",
              "\n",
              "    .dataframe thead th {\n",
              "        text-align: right;\n",
              "    }\n",
              "</style>\n",
              "<table border=\"1\" class=\"dataframe\">\n",
              "  <thead>\n",
              "    <tr style=\"text-align: right;\">\n",
              "      <th></th>\n",
              "      <th>0</th>\n",
              "    </tr>\n",
              "  </thead>\n",
              "  <tbody>\n",
              "    <tr>\n",
              "      <th>AGE</th>\n",
              "      <td>int64</td>\n",
              "    </tr>\n",
              "    <tr>\n",
              "      <th>SEX</th>\n",
              "      <td>int64</td>\n",
              "    </tr>\n",
              "    <tr>\n",
              "      <th>BMI</th>\n",
              "      <td>float64</td>\n",
              "    </tr>\n",
              "    <tr>\n",
              "      <th>BP</th>\n",
              "      <td>float64</td>\n",
              "    </tr>\n",
              "    <tr>\n",
              "      <th>tc</th>\n",
              "      <td>int64</td>\n",
              "    </tr>\n",
              "    <tr>\n",
              "      <th>ldl</th>\n",
              "      <td>float64</td>\n",
              "    </tr>\n",
              "    <tr>\n",
              "      <th>hdl</th>\n",
              "      <td>float64</td>\n",
              "    </tr>\n",
              "    <tr>\n",
              "      <th>tch</th>\n",
              "      <td>float64</td>\n",
              "    </tr>\n",
              "    <tr>\n",
              "      <th>ltg</th>\n",
              "      <td>float64</td>\n",
              "    </tr>\n",
              "    <tr>\n",
              "      <th>glu</th>\n",
              "      <td>int64</td>\n",
              "    </tr>\n",
              "    <tr>\n",
              "      <th>Y</th>\n",
              "      <td>int64</td>\n",
              "    </tr>\n",
              "  </tbody>\n",
              "</table>\n",
              "</div><br><label><b>dtype:</b> object</label>"
            ]
          },
          "metadata": {},
          "execution_count": 14
        }
      ]
    },
    {
      "cell_type": "markdown",
      "source": [
        "Display information about the dataset using `df.info()`. Make sure there are no `NaN` values. Count the number of `NaN` values manually using the functions `.isna()` and `.sum().`"
      ],
      "metadata": {
        "id": "G8KJ6rR1cKgt"
      }
    },
    {
      "cell_type": "code",
      "source": [
        "# ..."
      ],
      "metadata": {
        "id": "50UCKV-3cVzr"
      },
      "execution_count": null,
      "outputs": []
    },
    {
      "cell_type": "markdown",
      "source": [
        "The variable `sex` contains encoded notations for gender: `1` and `2`.\n",
        "The dataset description does not specify which genders are implied by which number.\n",
        "For convention, let's assume that 1 - female, 2 - male.\n",
        "\n",
        "Let's rename them accordingly. In the `sex` column, replace the values `1` with `female`, `2` with `male`."
      ],
      "metadata": {
        "id": "swVxpUPccYNm"
      }
    },
    {
      "cell_type": "code",
      "source": [
        "# ..."
      ],
      "metadata": {
        "id": "ogkT9UcdcjSm"
      },
      "execution_count": null,
      "outputs": []
    },
    {
      "cell_type": "markdown",
      "source": [
        "Answer the following questions by calculating the corresponding statistics:\n",
        "\n",
        "- How many people have BMI above 30?\n",
        "\n",
        "- How many men have BMI above 30?\n",
        "\n",
        "- Calculate the average BMI for each gender using the `groupby()` method.\n",
        "\n",
        "- How many women over 60 have blood pressure above the average blood pressure of all women?"
      ],
      "metadata": {
        "id": "Cm4Ffe-Vdd-s"
      }
    },
    {
      "cell_type": "code",
      "source": [
        "# ..."
      ],
      "metadata": {
        "id": "HgoOMkHedjUI"
      },
      "execution_count": null,
      "outputs": []
    },
    {
      "cell_type": "markdown",
      "source": [
        "## [1.5] Data Visualization"
      ],
      "metadata": {
        "id": "ygshm2vTd_gl"
      }
    },
    {
      "cell_type": "markdown",
      "source": [
        "Display on a graph the distribution of `BMI` for men and women separately. For now, you don't need to import `matplotlib` if you use the built-in `hist` method in pandas. Make the graphs readable and neat: for example, the `BMI` distributions by `gender` will overlap, so make them semi-transparent (find in the documentation which parameter is responsible for this). Also add a legend."
      ],
      "metadata": {
        "id": "4nfiimwgeAyv"
      }
    },
    {
      "cell_type": "code",
      "source": [
        "# ..."
      ],
      "metadata": {
        "id": "5J5RDsc6e9rb"
      },
      "execution_count": null,
      "outputs": []
    },
    {
      "cell_type": "markdown",
      "source": [
        "Looking at the resulting distributions, can we say that there are empirical differences between them? If yes, what are they? How could this be verified statistically?\n",
        "\n",
        "Your answer: `...`"
      ],
      "metadata": {
        "id": "5iqzpi7Fe937"
      }
    },
    {
      "cell_type": "markdown",
      "source": [
        "Now, using the `matplotlib` library, create a scatterplot showing the dependence of blood pressure on BMI. Highlight those people whose glucose level exceeds the median for the dataset (for example, with a separate color of points and/or a bold outline).\n",
        "Don't forget to add:\n",
        "\n",
        "* Legend\n",
        "\n",
        "* Plot title\n",
        "\n",
        "* Axis labels\n",
        "\n",
        "* Grid"
      ],
      "metadata": {
        "id": "-5tKJruBfXUs"
      }
    },
    {
      "cell_type": "code",
      "source": [
        "# ..."
      ],
      "metadata": {
        "id": "QWFdVneqfiqn"
      },
      "execution_count": null,
      "outputs": []
    },
    {
      "cell_type": "markdown",
      "source": [
        "Using the `plt.subplots` method, build histograms for all 10 features from the dataset (do not include the target column `Y`):"
      ],
      "metadata": {
        "id": "NoPnXMKzf9Ys"
      }
    },
    {
      "cell_type": "code",
      "source": [
        "# ..."
      ],
      "metadata": {
        "id": "PVk_6vVIga_L"
      },
      "execution_count": null,
      "outputs": []
    },
    {
      "cell_type": "markdown",
      "source": [
        "## [1] Age Group Analysis"
      ],
      "metadata": {
        "id": "qzam3H3bfj7_"
      }
    },
    {
      "cell_type": "markdown",
      "source": [
        "Split the `Age` variable into bins, for example, using `pd.cut`. The result should be a new categorical feature (a column in the dataframe) reflecting different age groups (e.g., 18-30, 31-40, 41-50, etc.). Make sure you include all ages (there should be no `NaNs` in the new column)."
      ],
      "metadata": {
        "id": "6oWyQaVbgdgL"
      }
    },
    {
      "cell_type": "code",
      "source": [
        "# You should have both a list with bin boundaries and names for the bins\n",
        "bins = ...\n",
        "labels = ...\n",
        "df['Age_Group'] = pd.cut(...)"
      ],
      "metadata": {
        "id": "68b5_82Hgov0"
      },
      "execution_count": null,
      "outputs": []
    },
    {
      "cell_type": "markdown",
      "source": [
        "Create a violinplot showing the distribution of glucose levels for the age groups obtained above."
      ],
      "metadata": {
        "id": "8LaqpQkPgpCB"
      }
    },
    {
      "cell_type": "code",
      "source": [
        "# ..."
      ],
      "metadata": {
        "id": "PBJmmWs4gt8v"
      },
      "execution_count": null,
      "outputs": []
    },
    {
      "cell_type": "markdown",
      "source": [
        "Are there noticeable differences in obtained distributions?\n",
        "\n",
        "Your answer: `...`"
      ],
      "metadata": {
        "id": "Rn8eH7RVgxAk"
      }
    },
    {
      "cell_type": "markdown",
      "source": [
        "# Case II: RNA-seq data analysis (4 points)"
      ],
      "metadata": {
        "id": "qwVvPBHiykPa"
      }
    },
    {
      "cell_type": "markdown",
      "source": [
        "## [1] Small introduction to RNA-seq\n",
        "\n",
        "In this case we will work with RNA sequencing data (RNA-seq), the workhorse of modern transcriptome research.\n",
        "\n",
        "Below we provide a ***short*** introduction to RNA biology and RNA sequencing experiments. This is not exhaustive, but you are expected to be curious, google, and discuss unknown/unclear points in the group. If something cannot be solved ~by the collective mind~ - feel free to write to me or ask questions at the next lesson.\n",
        "\n",
        "For those interested, here is a list [list](https://github.com/crazyhottommy/RNA-seq-analysis) with additional resources.\n",
        "\n",
        "\n",
        "\n",
        "---\n",
        "\n",
        "\n",
        "\n",
        "---\n",
        "\n"
      ],
      "metadata": {
        "id": "L9kY6viVwbME"
      }
    },
    {
      "cell_type": "markdown",
      "source": [
        "### Molecular biology primer\n",
        "\n",
        "There are three main molecules inside the cell:\n",
        "* DNA - where the genetic information is stored. In humans, DNA is stored exclusively in the *nucleus*.\n",
        "* RNA - that is used to transfer information from the *DNA* (nucleus) to the *cytoplasm*. DNA is *transcribed* to create RNA.\n",
        "* Proteins are the molecules that do most of the work inside the cell. They are synthesized in the *cytoplasm* on the basis of RNA, this process is known as *translation*.\n",
        "\n",
        "That is, the ***main*** flow of genetic information is\n",
        "```DNA -> transcription -> RNA -> translation -> proteins```.\n",
        "This is called the central dogma of molecular biology. [Youtube](https://www.youtube.com/results?search_query=central+dogma+of+molecular+biology).\n",
        "\n",
        "We can think of DNA, RNA, and proteins as simple sequences of either nucleic acids or amino acids. In most cases this simplification is sufficient, but keep in mind that DNA/RNA/proteins also have a high level 3D structure that will affect their biological role (and this structure is context dependent and in most cases unknown).\n",
        "\n",
        "How do cells react to external stimulation? What is the difference between cells of different tissues of the same organism? The answers lie in a set of active genes.That is, genes (=regions of DNA) that are transcribed into RNA and then translated into proteins.\n",
        "\n",
        "Obviously, biologists are very interested in proteins that are active inside the cell. However, for technical reasons, a direct and reliable study of the cell proteome is impossible. Instead, researchers focus on the previous step, RNA abundance, the total number of RNA copies for a given gene (or its relative concentration).\n",
        "\n",
        "State-of-the-art technology to measure RNA abundance is called RNA-seq. It consists of two main steps: (1) isolation of RNA from cells of interest (cancer, tissues, cell lines) and (2) *sequencing* of the RNA. Sequencing is the process of determining the RNA sequences in a given sample. Once the RNAs are sequenced, they can be assigned to genes of origin to assess overall gene expression (also known as activity).\n",
        "\n",
        "Important remarks:\n",
        "* RNA-seq measures the concentration of RNA in a group of cells (i.e. it is the average of the entire population)\n",
        "* We assume that the amount of RNA correlates with the production of a given protein.\n",
        "\n",
        "Both assumptions are somewhat weak in practice, but sufficient for high-level forecasts.\n",
        "\n",
        "On your molecular biology & bioinformatics classes you wil find that the above picture is a great simplification. However, this will be enough for our purposes."
      ],
      "metadata": {
        "id": "vvnx2ZkMHVkm"
      }
    },
    {
      "cell_type": "markdown",
      "source": [
        "### Data format\n",
        "\n",
        "We can **assume** that the result of the RNA-seq experiment is a simple table like this:\n",
        "\n",
        "|        | Sample 1 | .... | Sample N |\n",
        "|--------|----------|------|----------|\n",
        "| Gene 1 | 35       |      | 897      |\n",
        "| ....   |          |      |          |\n",
        "| Gene N | 0        |      | 760      |\n",
        "\n",
        "And the values ​​in each cell indicate the estimated normalized expression of the gene in this sample. This is not a direct number of RNA copies, but a normalized value strongly correlated with it.\n",
        "\n",
        "For those interested, the normalization of RNA-seq experiments is a very complex topic. We will use TPM values ​​and trust that all basic assumptions remain valid."
      ],
      "metadata": {
        "id": "p67Uqek7EG88"
      }
    },
    {
      "cell_type": "markdown",
      "source": [
        "### Questions\n",
        "* [0.2] Why do we use RNA sequencing but don't measure proteins directly? Provide a brief **high-level** description of the major technical reasons.\n",
        "\n",
        "Your answer: `...`\n",
        "* [0.2] Why might RNA-seq be a poor indicator of protein abundance?\n",
        "\n",
        "Your answer: `...`\n",
        "* [0.2] Give four examples where the transcribed RNA is directly involved in some biological process (i.e., it functions without translation, which violates the central dogma). Give a brief explanation for each example (1 sentence).\n",
        "\n",
        "Your answer: `...`\n",
        "* [0.2] What kinds of analyzes can we perform using RNA sequencing data? Describe any two of them in detail.\n",
        "\n",
        "Your answer: `...`\n",
        "* [0.2] Imagine that you are studying a group of cells in two conditions. You need to compare their transcriptome between two states and you decide to run RNA sequencing in duplicate (2x2 = 4 samples). What will be the approximate cost of sequencing these samples using the Total RNA-seq protocol in the US? Provide links.\n",
        "\n",
        "Your answer: `...`\n",
        "\n",
        "\n",
        "\n",
        "---\n",
        "\n",
        "\n",
        "\n",
        "---\n",
        "\n",
        "\n",
        "You are expected to search answers online and discuss with your more experienced colleagues. Just remember to understand and explain everything in your own words.\n"
      ],
      "metadata": {
        "id": "m73YdipY8fq1"
      }
    },
    {
      "cell_type": "markdown",
      "source": [
        "## [1.5] Data preprocessing\n",
        "\n",
        "We are going to use pre-processed RNA-seq data from mouse brain cells with 2 genotypes - wild type (WT) and ADAR1-KO (aka knockout/inactive/disrupted ADAR1 gene).\n",
        "\n",
        "**[1] points in this section is for writing code.**"
      ],
      "metadata": {
        "id": "z82l8gRoEWKO"
      }
    },
    {
      "cell_type": "code",
      "source": [
        "# gdown - shell tool to download files from google drive by ID\n",
        "# ! => run shell command instead of python command\n",
        "!gdown 1chfNjtLn4szHCko4LO8bjRme6nHipuQk"
      ],
      "metadata": {
        "colab": {
          "base_uri": "https://localhost:8080/"
        },
        "id": "r2f5QjZ2FWpX",
        "outputId": "885d0bf5-98f1-451c-9f32-f31084e4d399"
      },
      "execution_count": null,
      "outputs": [
        {
          "output_type": "stream",
          "name": "stdout",
          "text": [
            "Downloading...\n",
            "From: https://drive.google.com/uc?id=1chfNjtLn4szHCko4LO8bjRme6nHipuQk\n",
            "To: /content/HW-1.TPM.tsv.gz\n",
            "\r  0% 0.00/1.15M [00:00<?, ?B/s]\r100% 1.15M/1.15M [00:00<00:00, 123MB/s]\n"
          ]
        }
      ]
    },
    {
      "cell_type": "code",
      "source": [
        "import pandas as pd\n",
        "import numpy as np\n",
        "\n",
        "# Load tab separated HW-1.TPM.tsv.gz file, and create a data frame\n",
        "# hint: read_csv with sep\n",
        "df = ...\n",
        "\n",
        "# Show the first 5 rows\n",
        "..."
      ],
      "metadata": {
        "colab": {
          "base_uri": "https://localhost:8080/",
          "height": 206
        },
        "id": "t1-MBgPtFqj1",
        "outputId": "648e0c67-2e52-4a38-cc46-0435925f6362"
      },
      "execution_count": null,
      "outputs": [
        {
          "output_type": "execute_result",
          "data": {
            "text/plain": [
              "              gene_id gene_name       WT 1       WT 2       WT 3  ADAR1-KO 1  \\\n",
              "0  ENSMUSG00000000001     Gnai3  41.497520  36.699438  37.343788   38.061131   \n",
              "1  ENSMUSG00000000003      Pbsn   0.000000   0.000000   0.000000    0.000000   \n",
              "2  ENSMUSG00000000028     Cdc45   1.885241   2.411933   1.662913    2.533332   \n",
              "3  ENSMUSG00000000031       H19   4.660286   2.929563  11.034701    6.114367   \n",
              "4  ENSMUSG00000000037     Scml2   1.008518   1.175329   0.775612    1.114238   \n",
              "\n",
              "   ADAR1-KO 2  ADAR1-KO 3  \n",
              "0   37.586224   32.082841  \n",
              "1    0.000000    0.000000  \n",
              "2    2.380505    2.200205  \n",
              "3   37.147375    3.223032  \n",
              "4    0.891466    0.933327  "
            ],
            "text/html": [
              "\n",
              "  <div id=\"df-26ef3ecd-3fa7-4883-8e3f-8839083e19ad\">\n",
              "    <div class=\"colab-df-container\">\n",
              "      <div>\n",
              "<style scoped>\n",
              "    .dataframe tbody tr th:only-of-type {\n",
              "        vertical-align: middle;\n",
              "    }\n",
              "\n",
              "    .dataframe tbody tr th {\n",
              "        vertical-align: top;\n",
              "    }\n",
              "\n",
              "    .dataframe thead th {\n",
              "        text-align: right;\n",
              "    }\n",
              "</style>\n",
              "<table border=\"1\" class=\"dataframe\">\n",
              "  <thead>\n",
              "    <tr style=\"text-align: right;\">\n",
              "      <th></th>\n",
              "      <th>gene_id</th>\n",
              "      <th>gene_name</th>\n",
              "      <th>WT 1</th>\n",
              "      <th>WT 2</th>\n",
              "      <th>WT 3</th>\n",
              "      <th>ADAR1-KO 1</th>\n",
              "      <th>ADAR1-KO 2</th>\n",
              "      <th>ADAR1-KO 3</th>\n",
              "    </tr>\n",
              "  </thead>\n",
              "  <tbody>\n",
              "    <tr>\n",
              "      <th>0</th>\n",
              "      <td>ENSMUSG00000000001</td>\n",
              "      <td>Gnai3</td>\n",
              "      <td>41.497520</td>\n",
              "      <td>36.699438</td>\n",
              "      <td>37.343788</td>\n",
              "      <td>38.061131</td>\n",
              "      <td>37.586224</td>\n",
              "      <td>32.082841</td>\n",
              "    </tr>\n",
              "    <tr>\n",
              "      <th>1</th>\n",
              "      <td>ENSMUSG00000000003</td>\n",
              "      <td>Pbsn</td>\n",
              "      <td>0.000000</td>\n",
              "      <td>0.000000</td>\n",
              "      <td>0.000000</td>\n",
              "      <td>0.000000</td>\n",
              "      <td>0.000000</td>\n",
              "      <td>0.000000</td>\n",
              "    </tr>\n",
              "    <tr>\n",
              "      <th>2</th>\n",
              "      <td>ENSMUSG00000000028</td>\n",
              "      <td>Cdc45</td>\n",
              "      <td>1.885241</td>\n",
              "      <td>2.411933</td>\n",
              "      <td>1.662913</td>\n",
              "      <td>2.533332</td>\n",
              "      <td>2.380505</td>\n",
              "      <td>2.200205</td>\n",
              "    </tr>\n",
              "    <tr>\n",
              "      <th>3</th>\n",
              "      <td>ENSMUSG00000000031</td>\n",
              "      <td>H19</td>\n",
              "      <td>4.660286</td>\n",
              "      <td>2.929563</td>\n",
              "      <td>11.034701</td>\n",
              "      <td>6.114367</td>\n",
              "      <td>37.147375</td>\n",
              "      <td>3.223032</td>\n",
              "    </tr>\n",
              "    <tr>\n",
              "      <th>4</th>\n",
              "      <td>ENSMUSG00000000037</td>\n",
              "      <td>Scml2</td>\n",
              "      <td>1.008518</td>\n",
              "      <td>1.175329</td>\n",
              "      <td>0.775612</td>\n",
              "      <td>1.114238</td>\n",
              "      <td>0.891466</td>\n",
              "      <td>0.933327</td>\n",
              "    </tr>\n",
              "  </tbody>\n",
              "</table>\n",
              "</div>\n",
              "      <button class=\"colab-df-convert\" onclick=\"convertToInteractive('df-26ef3ecd-3fa7-4883-8e3f-8839083e19ad')\"\n",
              "              title=\"Convert this dataframe to an interactive table.\"\n",
              "              style=\"display:none;\">\n",
              "        \n",
              "  <svg xmlns=\"http://www.w3.org/2000/svg\" height=\"24px\"viewBox=\"0 0 24 24\"\n",
              "       width=\"24px\">\n",
              "    <path d=\"M0 0h24v24H0V0z\" fill=\"none\"/>\n",
              "    <path d=\"M18.56 5.44l.94 2.06.94-2.06 2.06-.94-2.06-.94-.94-2.06-.94 2.06-2.06.94zm-11 1L8.5 8.5l.94-2.06 2.06-.94-2.06-.94L8.5 2.5l-.94 2.06-2.06.94zm10 10l.94 2.06.94-2.06 2.06-.94-2.06-.94-.94-2.06-.94 2.06-2.06.94z\"/><path d=\"M17.41 7.96l-1.37-1.37c-.4-.4-.92-.59-1.43-.59-.52 0-1.04.2-1.43.59L10.3 9.45l-7.72 7.72c-.78.78-.78 2.05 0 2.83L4 21.41c.39.39.9.59 1.41.59.51 0 1.02-.2 1.41-.59l7.78-7.78 2.81-2.81c.8-.78.8-2.07 0-2.86zM5.41 20L4 18.59l7.72-7.72 1.47 1.35L5.41 20z\"/>\n",
              "  </svg>\n",
              "      </button>\n",
              "      \n",
              "  <style>\n",
              "    .colab-df-container {\n",
              "      display:flex;\n",
              "      flex-wrap:wrap;\n",
              "      gap: 12px;\n",
              "    }\n",
              "\n",
              "    .colab-df-convert {\n",
              "      background-color: #E8F0FE;\n",
              "      border: none;\n",
              "      border-radius: 50%;\n",
              "      cursor: pointer;\n",
              "      display: none;\n",
              "      fill: #1967D2;\n",
              "      height: 32px;\n",
              "      padding: 0 0 0 0;\n",
              "      width: 32px;\n",
              "    }\n",
              "\n",
              "    .colab-df-convert:hover {\n",
              "      background-color: #E2EBFA;\n",
              "      box-shadow: 0px 1px 2px rgba(60, 64, 67, 0.3), 0px 1px 3px 1px rgba(60, 64, 67, 0.15);\n",
              "      fill: #174EA6;\n",
              "    }\n",
              "\n",
              "    [theme=dark] .colab-df-convert {\n",
              "      background-color: #3B4455;\n",
              "      fill: #D2E3FC;\n",
              "    }\n",
              "\n",
              "    [theme=dark] .colab-df-convert:hover {\n",
              "      background-color: #434B5C;\n",
              "      box-shadow: 0px 1px 3px 1px rgba(0, 0, 0, 0.15);\n",
              "      filter: drop-shadow(0px 1px 2px rgba(0, 0, 0, 0.3));\n",
              "      fill: #FFFFFF;\n",
              "    }\n",
              "  </style>\n",
              "\n",
              "      <script>\n",
              "        const buttonEl =\n",
              "          document.querySelector('#df-26ef3ecd-3fa7-4883-8e3f-8839083e19ad button.colab-df-convert');\n",
              "        buttonEl.style.display =\n",
              "          google.colab.kernel.accessAllowed ? 'block' : 'none';\n",
              "\n",
              "        async function convertToInteractive(key) {\n",
              "          const element = document.querySelector('#df-26ef3ecd-3fa7-4883-8e3f-8839083e19ad');\n",
              "          const dataTable =\n",
              "            await google.colab.kernel.invokeFunction('convertToInteractive',\n",
              "                                                     [key], {});\n",
              "          if (!dataTable) return;\n",
              "\n",
              "          const docLinkHtml = 'Like what you see? Visit the ' +\n",
              "            '<a target=\"_blank\" href=https://colab.research.google.com/notebooks/data_table.ipynb>data table notebook</a>'\n",
              "            + ' to learn more about interactive tables.';\n",
              "          element.innerHTML = '';\n",
              "          dataTable['output_type'] = 'display_data';\n",
              "          await google.colab.output.renderOutput(dataTable, element);\n",
              "          const docLink = document.createElement('div');\n",
              "          docLink.innerHTML = docLinkHtml;\n",
              "          element.appendChild(docLink);\n",
              "        }\n",
              "      </script>\n",
              "    </div>\n",
              "  </div>\n",
              "  "
            ]
          },
          "metadata": {},
          "execution_count": 2
        }
      ]
    },
    {
      "cell_type": "markdown",
      "source": [
        "If this were a completely new project, you must first refine the meaning of each column. In our case:\n",
        "* `gene_id` - gene id from the [Ensembl database](https://ensembl.org/index.html)\n",
        "* `gene_name` - name of the gene\n",
        "* `WT 1/2/3` - estimated expression of the gene in WT samples 1..3\n",
        "* `ADAR1-KO` - estimated expression of the gene in ADAR1-KO samples"
      ],
      "metadata": {
        "id": "QA4dFHn7GL3y"
      }
    },
    {
      "cell_type": "markdown",
      "source": [
        "**[0.25]** What is the function of this protein, ADAR1? Check its [gene card](https://www.genecards.org/cgi-bin/carddisp.pl?gene=ADAR) and provide a short summary (1-2 sentences)\n",
        "\n",
        "Your answer: `...`\n"
      ],
      "metadata": {
        "id": "pnH1Nu0WIcc2"
      }
    },
    {
      "cell_type": "markdown",
      "source": [
        "Before continuing, we also need to check that the numeric columns have been parsed correctly and that we don't have any missing values."
      ],
      "metadata": {
        "id": "gLxteLSMIkNr"
      }
    },
    {
      "cell_type": "code",
      "source": [
        "# Print dtypes and make sure that all expression columns are float64\n",
        "..."
      ],
      "metadata": {
        "colab": {
          "base_uri": "https://localhost:8080/"
        },
        "id": "fH6i_9fEFqs3",
        "outputId": "a8af5a9c-23f1-4796-e27a-1cf89a90f9ee"
      },
      "execution_count": null,
      "outputs": [
        {
          "output_type": "execute_result",
          "data": {
            "text/plain": [
              "gene_id        object\n",
              "gene_name      object\n",
              "WT 1          float64\n",
              "WT 2          float64\n",
              "WT 3          float64\n",
              "ADAR1-KO 1    float64\n",
              "ADAR1-KO 2    float64\n",
              "ADAR1-KO 3    float64\n",
              "dtype: object"
            ]
          },
          "metadata": {},
          "execution_count": 3
        }
      ]
    },
    {
      "cell_type": "code",
      "source": [
        "# Check that we don't have missing values\n",
        "# hint: isna with sum\n",
        "totalna = ...\n",
        "print(\"Total NA cells: \", totalna)\n",
        "\n",
        "# Assert that its actually 0 and provide some message if it's not\n",
        "..."
      ],
      "metadata": {
        "colab": {
          "base_uri": "https://localhost:8080/"
        },
        "id": "Z8e_ZSh1I3vr",
        "outputId": "41b7d06f-8e03-4531-d1f8-6e9133c02ac0"
      },
      "execution_count": null,
      "outputs": [
        {
          "output_type": "stream",
          "name": "stdout",
          "text": [
            "Total NA cells:  0\n"
          ]
        }
      ]
    },
    {
      "cell_type": "markdown",
      "source": [
        "The values ​​of the normalized expression in this dataset cannot be less than 0. Let's check if it's true:"
      ],
      "metadata": {
        "id": "kguNX42DM4Lh"
      }
    },
    {
      "cell_type": "code",
      "source": [
        "# Select numerical columns\n",
        "# hint: select_dtypes\n",
        "numcols = ...\n",
        "# Assert that the total number of values < 0 is 0\n",
        "assert ... == 0, \\\n",
        "  \"All RNA abundance estimates must be > 0\""
      ],
      "metadata": {
        "id": "NriHy9vKNBB5"
      },
      "execution_count": null,
      "outputs": []
    },
    {
      "cell_type": "markdown",
      "source": [
        "Now let's drop genes that are barely expressed:"
      ],
      "metadata": {
        "id": "oWXhsYIkJy1N"
      }
    },
    {
      "cell_type": "code",
      "source": [
        "# Calculate non-zero quantiles for each expression column\n",
        "qthr = 0.01\n",
        "quantiles = []\n",
        "for col in df[numcols]:\n",
        "  series = df[col]\n",
        "  # Select non zero values\n",
        "  series = ...\n",
        "  # Calculate quantiles\n",
        "  q = ...\n",
        "\n",
        "  quantiles.append(q)\n",
        "\n",
        "# Print results\n",
        "for col, q in zip(numcols, quantiles):\n",
        "  ...\n",
        "\n",
        "  # assert that quantile is not zero\n",
        "  ..."
      ],
      "metadata": {
        "colab": {
          "base_uri": "https://localhost:8080/"
        },
        "id": "FfEbIRZxJeg7",
        "outputId": "d78b86b9-7f60-4823-e460-4552d476228f"
      },
      "execution_count": null,
      "outputs": [
        {
          "output_type": "stream",
          "name": "stdout",
          "text": [
            "WT 1 -> 0.01082312\n",
            "WT 2 -> 0.01019045\n",
            "WT 3 -> 0.01016553\n",
            "ADAR1-KO 1 -> 0.01011308\n",
            "ADAR1-KO 2 -> 0.00947186\n",
            "ADAR1-KO 3 -> 0.011762540000000002\n"
          ]
        }
      ]
    },
    {
      "cell_type": "code",
      "source": [
        "# As a threshold we will use a min quantile\n",
        "threshold = ...\n",
        "\n",
        "print(\"Genes before\", df.shape[0])\n",
        "\n",
        "# We will drop all columns,\n",
        "# where the expression is below the threshold in all samples\n",
        "mask = (df[numcols] >= threshold).any(axis=1)\n",
        "df = ...\n",
        "\n",
        "print(\"Genes after\", df.shape[0])"
      ],
      "metadata": {
        "colab": {
          "base_uri": "https://localhost:8080/"
        },
        "id": "T-07adeYCcIq",
        "outputId": "ef90f40d-f378-4a38-8b6f-15374c2587ab"
      },
      "execution_count": null,
      "outputs": [
        {
          "output_type": "stream",
          "name": "stdout",
          "text": [
            "Genes before 55414\n",
            "Genes after 32541\n"
          ]
        }
      ]
    },
    {
      "cell_type": "markdown",
      "source": [
        "Let's check the genes with the total maximum expression in all samples:"
      ],
      "metadata": {
        "id": "AtCqVg4XDdeN"
      }
    },
    {
      "cell_type": "code",
      "source": [
        "overallexpr = df[numcols].sum(axis=1)\n",
        "\n",
        "# New trick:\n",
        "## sort by index\n",
        "argsort = overallexpr.argsort()\n",
        "## select top 25 elements\n",
        "index = argsort[-15:]\n",
        "\n",
        "# Print selected genes\n",
        "# hint: use iloc for indexing using row ids\n",
        "df.iloc[index]"
      ],
      "metadata": {
        "colab": {
          "base_uri": "https://localhost:8080/",
          "height": 520
        },
        "id": "lhT5wHi2D3oH",
        "outputId": "5c8904aa-7adc-45c3-a9a8-1b24112c1079"
      },
      "execution_count": null,
      "outputs": [
        {
          "output_type": "execute_result",
          "data": {
            "text/plain": [
              "                  gene_id gene_name           WT 1           WT 2  \\\n",
              "18695  ENSMUSG00000065947   mt-Nd4l    3244.481524    3787.011878   \n",
              "49540  ENSMUSG00000115420      Rmrp    4648.810066    5935.635789   \n",
              "17925  ENSMUSG00000064363    mt-Nd4    4578.895973    4504.075658   \n",
              "17919  ENSMUSG00000064356   mt-Atp8    3451.798433    3194.473193   \n",
              "17923  ENSMUSG00000064360    mt-Nd3    4762.398471    4759.783429   \n",
              "17932  ENSMUSG00000064370   mt-Cytb    7140.148099    7157.130352   \n",
              "17904  ENSMUSG00000064341    mt-Nd1    7689.936568    7120.516366   \n",
              "35986  ENSMUSG00000100862   Gm10925    8668.572102    7631.164943   \n",
              "36227  ENSMUSG00000101111   Gm28437    9590.183503    9092.210924   \n",
              "30928  ENSMUSG00000092837     Rpph1   11583.957861   12935.043219   \n",
              "17914  ENSMUSG00000064351    mt-Co1   11752.649712   11573.023455   \n",
              "37132  ENSMUSG00000102070   Gm28661   14274.473853   14348.844034   \n",
              "52514  ENSMUSG00000118841     Rn7s2   24940.017679   25474.594691   \n",
              "54582  ENSMUSG00002076161       7SK  102334.349529  106563.019037   \n",
              "52530  ENSMUSG00000118866     Rn7s1  167432.945541  193591.189912   \n",
              "\n",
              "                WT 3     ADAR1-KO 1     ADAR1-KO 2     ADAR1-KO 3  \n",
              "18695    5191.404945    4300.233598    4692.699653    3824.266417  \n",
              "49540    5110.159742    4217.981449    3487.013390    3726.549261  \n",
              "17925    5439.584430    5016.570289    5410.107547    5138.580676  \n",
              "17919    6608.528970    4569.459389    6933.611236    5597.696083  \n",
              "17923    6556.043245    6048.342017    6107.484679    5500.308998  \n",
              "17932    7060.157734    7265.976052    7694.228833    7855.445480  \n",
              "17904    7850.802297    8494.714554    9201.511742    8645.226517  \n",
              "35986    8472.854381    9178.058135   10870.244060    9758.700512  \n",
              "36227   10351.376384    9470.910668   11953.672795   10212.991929  \n",
              "30928   12466.619806   13130.398621   10852.620645   10056.491107  \n",
              "17914   12443.641672   13559.402518   14370.470688   13691.010991  \n",
              "37132   15964.720522   15954.974569   17029.868971   16250.250283  \n",
              "52514  113278.214067   11773.807530   33228.528517   20900.377150  \n",
              "54582  105427.248728  102413.253603   97606.676391  108510.891018  \n",
              "52530   81594.393731  161363.851954  127290.164003  159930.560284  "
            ],
            "text/html": [
              "\n",
              "  <div id=\"df-6c6fd122-37a2-4844-9966-a6c73aea19af\">\n",
              "    <div class=\"colab-df-container\">\n",
              "      <div>\n",
              "<style scoped>\n",
              "    .dataframe tbody tr th:only-of-type {\n",
              "        vertical-align: middle;\n",
              "    }\n",
              "\n",
              "    .dataframe tbody tr th {\n",
              "        vertical-align: top;\n",
              "    }\n",
              "\n",
              "    .dataframe thead th {\n",
              "        text-align: right;\n",
              "    }\n",
              "</style>\n",
              "<table border=\"1\" class=\"dataframe\">\n",
              "  <thead>\n",
              "    <tr style=\"text-align: right;\">\n",
              "      <th></th>\n",
              "      <th>gene_id</th>\n",
              "      <th>gene_name</th>\n",
              "      <th>WT 1</th>\n",
              "      <th>WT 2</th>\n",
              "      <th>WT 3</th>\n",
              "      <th>ADAR1-KO 1</th>\n",
              "      <th>ADAR1-KO 2</th>\n",
              "      <th>ADAR1-KO 3</th>\n",
              "    </tr>\n",
              "  </thead>\n",
              "  <tbody>\n",
              "    <tr>\n",
              "      <th>18695</th>\n",
              "      <td>ENSMUSG00000065947</td>\n",
              "      <td>mt-Nd4l</td>\n",
              "      <td>3244.481524</td>\n",
              "      <td>3787.011878</td>\n",
              "      <td>5191.404945</td>\n",
              "      <td>4300.233598</td>\n",
              "      <td>4692.699653</td>\n",
              "      <td>3824.266417</td>\n",
              "    </tr>\n",
              "    <tr>\n",
              "      <th>49540</th>\n",
              "      <td>ENSMUSG00000115420</td>\n",
              "      <td>Rmrp</td>\n",
              "      <td>4648.810066</td>\n",
              "      <td>5935.635789</td>\n",
              "      <td>5110.159742</td>\n",
              "      <td>4217.981449</td>\n",
              "      <td>3487.013390</td>\n",
              "      <td>3726.549261</td>\n",
              "    </tr>\n",
              "    <tr>\n",
              "      <th>17925</th>\n",
              "      <td>ENSMUSG00000064363</td>\n",
              "      <td>mt-Nd4</td>\n",
              "      <td>4578.895973</td>\n",
              "      <td>4504.075658</td>\n",
              "      <td>5439.584430</td>\n",
              "      <td>5016.570289</td>\n",
              "      <td>5410.107547</td>\n",
              "      <td>5138.580676</td>\n",
              "    </tr>\n",
              "    <tr>\n",
              "      <th>17919</th>\n",
              "      <td>ENSMUSG00000064356</td>\n",
              "      <td>mt-Atp8</td>\n",
              "      <td>3451.798433</td>\n",
              "      <td>3194.473193</td>\n",
              "      <td>6608.528970</td>\n",
              "      <td>4569.459389</td>\n",
              "      <td>6933.611236</td>\n",
              "      <td>5597.696083</td>\n",
              "    </tr>\n",
              "    <tr>\n",
              "      <th>17923</th>\n",
              "      <td>ENSMUSG00000064360</td>\n",
              "      <td>mt-Nd3</td>\n",
              "      <td>4762.398471</td>\n",
              "      <td>4759.783429</td>\n",
              "      <td>6556.043245</td>\n",
              "      <td>6048.342017</td>\n",
              "      <td>6107.484679</td>\n",
              "      <td>5500.308998</td>\n",
              "    </tr>\n",
              "    <tr>\n",
              "      <th>17932</th>\n",
              "      <td>ENSMUSG00000064370</td>\n",
              "      <td>mt-Cytb</td>\n",
              "      <td>7140.148099</td>\n",
              "      <td>7157.130352</td>\n",
              "      <td>7060.157734</td>\n",
              "      <td>7265.976052</td>\n",
              "      <td>7694.228833</td>\n",
              "      <td>7855.445480</td>\n",
              "    </tr>\n",
              "    <tr>\n",
              "      <th>17904</th>\n",
              "      <td>ENSMUSG00000064341</td>\n",
              "      <td>mt-Nd1</td>\n",
              "      <td>7689.936568</td>\n",
              "      <td>7120.516366</td>\n",
              "      <td>7850.802297</td>\n",
              "      <td>8494.714554</td>\n",
              "      <td>9201.511742</td>\n",
              "      <td>8645.226517</td>\n",
              "    </tr>\n",
              "    <tr>\n",
              "      <th>35986</th>\n",
              "      <td>ENSMUSG00000100862</td>\n",
              "      <td>Gm10925</td>\n",
              "      <td>8668.572102</td>\n",
              "      <td>7631.164943</td>\n",
              "      <td>8472.854381</td>\n",
              "      <td>9178.058135</td>\n",
              "      <td>10870.244060</td>\n",
              "      <td>9758.700512</td>\n",
              "    </tr>\n",
              "    <tr>\n",
              "      <th>36227</th>\n",
              "      <td>ENSMUSG00000101111</td>\n",
              "      <td>Gm28437</td>\n",
              "      <td>9590.183503</td>\n",
              "      <td>9092.210924</td>\n",
              "      <td>10351.376384</td>\n",
              "      <td>9470.910668</td>\n",
              "      <td>11953.672795</td>\n",
              "      <td>10212.991929</td>\n",
              "    </tr>\n",
              "    <tr>\n",
              "      <th>30928</th>\n",
              "      <td>ENSMUSG00000092837</td>\n",
              "      <td>Rpph1</td>\n",
              "      <td>11583.957861</td>\n",
              "      <td>12935.043219</td>\n",
              "      <td>12466.619806</td>\n",
              "      <td>13130.398621</td>\n",
              "      <td>10852.620645</td>\n",
              "      <td>10056.491107</td>\n",
              "    </tr>\n",
              "    <tr>\n",
              "      <th>17914</th>\n",
              "      <td>ENSMUSG00000064351</td>\n",
              "      <td>mt-Co1</td>\n",
              "      <td>11752.649712</td>\n",
              "      <td>11573.023455</td>\n",
              "      <td>12443.641672</td>\n",
              "      <td>13559.402518</td>\n",
              "      <td>14370.470688</td>\n",
              "      <td>13691.010991</td>\n",
              "    </tr>\n",
              "    <tr>\n",
              "      <th>37132</th>\n",
              "      <td>ENSMUSG00000102070</td>\n",
              "      <td>Gm28661</td>\n",
              "      <td>14274.473853</td>\n",
              "      <td>14348.844034</td>\n",
              "      <td>15964.720522</td>\n",
              "      <td>15954.974569</td>\n",
              "      <td>17029.868971</td>\n",
              "      <td>16250.250283</td>\n",
              "    </tr>\n",
              "    <tr>\n",
              "      <th>52514</th>\n",
              "      <td>ENSMUSG00000118841</td>\n",
              "      <td>Rn7s2</td>\n",
              "      <td>24940.017679</td>\n",
              "      <td>25474.594691</td>\n",
              "      <td>113278.214067</td>\n",
              "      <td>11773.807530</td>\n",
              "      <td>33228.528517</td>\n",
              "      <td>20900.377150</td>\n",
              "    </tr>\n",
              "    <tr>\n",
              "      <th>54582</th>\n",
              "      <td>ENSMUSG00002076161</td>\n",
              "      <td>7SK</td>\n",
              "      <td>102334.349529</td>\n",
              "      <td>106563.019037</td>\n",
              "      <td>105427.248728</td>\n",
              "      <td>102413.253603</td>\n",
              "      <td>97606.676391</td>\n",
              "      <td>108510.891018</td>\n",
              "    </tr>\n",
              "    <tr>\n",
              "      <th>52530</th>\n",
              "      <td>ENSMUSG00000118866</td>\n",
              "      <td>Rn7s1</td>\n",
              "      <td>167432.945541</td>\n",
              "      <td>193591.189912</td>\n",
              "      <td>81594.393731</td>\n",
              "      <td>161363.851954</td>\n",
              "      <td>127290.164003</td>\n",
              "      <td>159930.560284</td>\n",
              "    </tr>\n",
              "  </tbody>\n",
              "</table>\n",
              "</div>\n",
              "      <button class=\"colab-df-convert\" onclick=\"convertToInteractive('df-6c6fd122-37a2-4844-9966-a6c73aea19af')\"\n",
              "              title=\"Convert this dataframe to an interactive table.\"\n",
              "              style=\"display:none;\">\n",
              "        \n",
              "  <svg xmlns=\"http://www.w3.org/2000/svg\" height=\"24px\"viewBox=\"0 0 24 24\"\n",
              "       width=\"24px\">\n",
              "    <path d=\"M0 0h24v24H0V0z\" fill=\"none\"/>\n",
              "    <path d=\"M18.56 5.44l.94 2.06.94-2.06 2.06-.94-2.06-.94-.94-2.06-.94 2.06-2.06.94zm-11 1L8.5 8.5l.94-2.06 2.06-.94-2.06-.94L8.5 2.5l-.94 2.06-2.06.94zm10 10l.94 2.06.94-2.06 2.06-.94-2.06-.94-.94-2.06-.94 2.06-2.06.94z\"/><path d=\"M17.41 7.96l-1.37-1.37c-.4-.4-.92-.59-1.43-.59-.52 0-1.04.2-1.43.59L10.3 9.45l-7.72 7.72c-.78.78-.78 2.05 0 2.83L4 21.41c.39.39.9.59 1.41.59.51 0 1.02-.2 1.41-.59l7.78-7.78 2.81-2.81c.8-.78.8-2.07 0-2.86zM5.41 20L4 18.59l7.72-7.72 1.47 1.35L5.41 20z\"/>\n",
              "  </svg>\n",
              "      </button>\n",
              "      \n",
              "  <style>\n",
              "    .colab-df-container {\n",
              "      display:flex;\n",
              "      flex-wrap:wrap;\n",
              "      gap: 12px;\n",
              "    }\n",
              "\n",
              "    .colab-df-convert {\n",
              "      background-color: #E8F0FE;\n",
              "      border: none;\n",
              "      border-radius: 50%;\n",
              "      cursor: pointer;\n",
              "      display: none;\n",
              "      fill: #1967D2;\n",
              "      height: 32px;\n",
              "      padding: 0 0 0 0;\n",
              "      width: 32px;\n",
              "    }\n",
              "\n",
              "    .colab-df-convert:hover {\n",
              "      background-color: #E2EBFA;\n",
              "      box-shadow: 0px 1px 2px rgba(60, 64, 67, 0.3), 0px 1px 3px 1px rgba(60, 64, 67, 0.15);\n",
              "      fill: #174EA6;\n",
              "    }\n",
              "\n",
              "    [theme=dark] .colab-df-convert {\n",
              "      background-color: #3B4455;\n",
              "      fill: #D2E3FC;\n",
              "    }\n",
              "\n",
              "    [theme=dark] .colab-df-convert:hover {\n",
              "      background-color: #434B5C;\n",
              "      box-shadow: 0px 1px 3px 1px rgba(0, 0, 0, 0.15);\n",
              "      filter: drop-shadow(0px 1px 2px rgba(0, 0, 0, 0.3));\n",
              "      fill: #FFFFFF;\n",
              "    }\n",
              "  </style>\n",
              "\n",
              "      <script>\n",
              "        const buttonEl =\n",
              "          document.querySelector('#df-6c6fd122-37a2-4844-9966-a6c73aea19af button.colab-df-convert');\n",
              "        buttonEl.style.display =\n",
              "          google.colab.kernel.accessAllowed ? 'block' : 'none';\n",
              "\n",
              "        async function convertToInteractive(key) {\n",
              "          const element = document.querySelector('#df-6c6fd122-37a2-4844-9966-a6c73aea19af');\n",
              "          const dataTable =\n",
              "            await google.colab.kernel.invokeFunction('convertToInteractive',\n",
              "                                                     [key], {});\n",
              "          if (!dataTable) return;\n",
              "\n",
              "          const docLinkHtml = 'Like what you see? Visit the ' +\n",
              "            '<a target=\"_blank\" href=https://colab.research.google.com/notebooks/data_table.ipynb>data table notebook</a>'\n",
              "            + ' to learn more about interactive tables.';\n",
              "          element.innerHTML = '';\n",
              "          dataTable['output_type'] = 'display_data';\n",
              "          await google.colab.output.renderOutput(dataTable, element);\n",
              "          const docLink = document.createElement('div');\n",
              "          docLink.innerHTML = docLinkHtml;\n",
              "          element.appendChild(docLink);\n",
              "        }\n",
              "      </script>\n",
              "    </div>\n",
              "  </div>\n",
              "  "
            ]
          },
          "metadata": {},
          "execution_count": 8
        }
      ]
    },
    {
      "cell_type": "markdown",
      "source": [
        "Obviously, these genes are not outliers due to their **consistently** high expression.\n",
        "\n",
        "**[0.25]** What gene groups do we have here (hint - at least 2)? Give a brief description for each category.\n",
        "\n",
        "Your answer: `...`"
      ],
      "metadata": {
        "id": "j-rHXzz4EkCV"
      }
    },
    {
      "cell_type": "markdown",
      "source": [
        "## [1.5] Quality control\n",
        "\n",
        "The data is ready, and, fortunately, without obvious problems. Let's focus on some basic quality control (QC) figures.\n",
        "\n",
        "Several decades ago such plots would have been included in almost all relevant publications. Now the quality of RNA sequencing has improved significantly, and the researchers simply mention that the samples passed the standard quality check."
      ],
      "metadata": {
        "id": "h-BYmXgA9i4s"
      }
    },
    {
      "cell_type": "markdown",
      "source": [
        "### PCA\n",
        "\n",
        "It is a well-known observation that PCA decomposition of expression profiles should group samples according to their origin. In our case, we expect to observe two clusters - KO and WT cells.\n",
        "\n",
        "The closer the samples are to each other on the PCA plot, the better. However, we are fine as long as the samples can be separated by a straight line.\n",
        "\n",
        "\n",
        "**[0.5] points in this section is for writing code.**"
      ],
      "metadata": {
        "id": "XY5wTG7UKL4_"
      }
    },
    {
      "cell_type": "code",
      "source": [
        "from sklearn.decomposition import PCA\n",
        "from sklearn.preprocessing import StandardScaler\n",
        "\n",
        "# Select expression columns\n",
        "data = ...\n",
        "# Transpose the matrix to treat genes as features\n",
        "data = ...\n",
        "# Transform to zero mean and unit variance\n",
        "data = StandardScaler().fit_transform(data)\n",
        "\n",
        "# first thing is to calculate the PCA decomposition\n",
        "# hint: don't forget the random state & request 2 components to make a 2D plot\n",
        "pca = PCA(random_state=32 ...)\n",
        "pca = ...\n",
        "\n",
        "samples, coords = pca.shape\n",
        "print(f\"Samples: {samples}\")\n",
        "print(f\"Components: {coords}\")"
      ],
      "metadata": {
        "colab": {
          "base_uri": "https://localhost:8080/"
        },
        "id": "_HM8N9THLLin",
        "outputId": "fabe0880-92d6-43fb-908d-b2a560a74180"
      },
      "execution_count": null,
      "outputs": [
        {
          "output_type": "stream",
          "name": "stdout",
          "text": [
            "Samples: 6\n",
            "Components: 2\n"
          ]
        }
      ]
    },
    {
      "cell_type": "code",
      "source": [
        "import matplotlib.pyplot as plt\n",
        "# colors in HEX format\n",
        "palette = {\"WT\": \"#1F77B4\", \"ADAR1-KO\": \"#D62728\"}\n",
        "\n",
        "# Create a basic draft\n",
        "fig = plt.figure()\n",
        "ax = fig.gca()\n",
        "\n",
        "for (x, y), col in zip(pca, numcols):\n",
        "  group = \"WT\" if \"WT\" in col else \"ADAR1-KO\"\n",
        "  color = palette[group]\n",
        "  ax.scatter(x, y, color=color)\n",
        "\n",
        "fig.show()"
      ],
      "metadata": {
        "colab": {
          "base_uri": "https://localhost:8080/",
          "height": 265
        },
        "id": "PW2q5IzsMeer",
        "outputId": "7bf5c53d-49bd-4608-9fc8-b243a22c2ef2"
      },
      "execution_count": null,
      "outputs": [
        {
          "output_type": "display_data",
          "data": {
            "text/plain": [
              "<Figure size 432x288 with 1 Axes>"
            ],
            "image/png": "[encoded data removed]"
          },
          "metadata": {
            "needs_background": "light"
          }
        }
      ]
    },
    {
      "cell_type": "markdown",
      "source": [
        "[1.0] Your task is to start with the plot above and reproduce the below version:"
      ],
      "metadata": {
        "id": "UM-0ueZAQBR3"
      }
    },
    {
      "cell_type": "code",
      "source": [
        "..."
      ],
      "metadata": {
        "colab": {
          "base_uri": "https://localhost:8080/",
          "height": 297
        },
        "id": "6kN-KIHpPuZg",
        "outputId": "6fe4b993-37c0-4764-c2e8-852a708d4cc3"
      },
      "execution_count": null,
      "outputs": [
        {
          "output_type": "display_data",
          "data": {
            "text/plain": [
              "<Figure size 432x288 with 1 Axes>"
            ],
            "image/png": "[encoded data removed]"
          },
          "metadata": {
            "needs_background": "light"
          }
        }
      ]
    },
    {
      "cell_type": "markdown",
      "source": [
        "Obviously Colab compresses the image when it shows it to you, which is why it's so \"blocky\". When preparing figures for this article, you should use vector graphics (for example, matplotlib supports SVG export)."
      ],
      "metadata": {
        "id": "YH0J0sxtUgOy"
      }
    },
    {
      "cell_type": "markdown",
      "source": [
        "# Extra Tasks (2 Extra Points)"
      ],
      "metadata": {
        "id": "1XvDJUcU14Bz"
      }
    },
    {
      "cell_type": "markdown",
      "source": [
        "## [1] Expression distribution\n",
        "\n",
        "Let's have a look at binned distribution of genes expression:"
      ],
      "metadata": {
        "id": "wcezuyy-OVXW"
      }
    },
    {
      "cell_type": "code",
      "source": [
        "fig, ax = plt.subplots()\n",
        "\n",
        "# Let's ignore the highly expressed genes -\n",
        "# it makes no sense to bin them, since there are only a few of them.\n",
        "upthr = df[numcols].quantile(0.98).max()\n",
        "\n",
        "# Create 200 bins ranging from 0 to upthr\n",
        "# hint: use numpy\n",
        "bins = ...\n",
        "\n",
        "\n",
        "# Calculate center of each bin\n",
        "# hint: slice with step & sum & divide by 2\n",
        "X = ...\n",
        "\n",
        "# Plot each genotype\n",
        "for genotype in \"WT\", \"ADAR1-KO\":\n",
        "\n",
        "  # There are 3 samples of each genotype\n",
        "  counts = []\n",
        "  for col in numcols:\n",
        "    if genotype not in col:\n",
        "      continue\n",
        "    # count number of genes in each bin\n",
        "    c, _ = np.histogram(df[col], bins)\n",
        "    counts.append(c)\n",
        "\n",
        "  # Turn list of 1D arrays into dense 2D array\n",
        "  counts = np.asarray(counts)\n",
        "  # Calculate stats for each bin\n",
        "  meanv, minv, maxv = ...\n",
        "\n",
        "  # Get the color from the palette\n",
        "  color = ...\n",
        "\n",
        "  # Plot the mean trend\n",
        "  ax.plot(...)\n",
        "  # Shade betweenmin and max\n",
        "  ax.fill_between(..., color=color, alpha=0.25)\n",
        "\n",
        "ax.set(yscale='log')"
      ],
      "metadata": {
        "id": "eYAiLhfFOetY",
        "colab": {
          "base_uri": "https://localhost:8080/",
          "height": 282
        },
        "outputId": "bf0b7752-11e8-4b72-ed4d-576cd6b0f308"
      },
      "execution_count": null,
      "outputs": [
        {
          "output_type": "execute_result",
          "data": {
            "text/plain": [
              "[None]"
            ]
          },
          "metadata": {},
          "execution_count": 14
        },
        {
          "output_type": "display_data",
          "data": {
            "text/plain": [
              "<Figure size 432x288 with 1 Axes>"
            ],
            "image/png": "[encoded data removed]"
          },
          "metadata": {
            "needs_background": "light"
          }
        }
      ]
    },
    {
      "cell_type": "markdown",
      "source": [
        "What observations can we make based on this graph? *Hint: right tail.*\n",
        "\n",
        "Your answer: `...`"
      ],
      "metadata": {
        "id": "PJTdQlFvVYnu"
      }
    },
    {
      "cell_type": "markdown",
      "source": [
        "Now your task is to use all your skills and embellish this plot just like we did with the PCA figure. For example, be sure to include the legend, title, grid, and axis labels."
      ],
      "metadata": {
        "id": "Sol09XuktYsS"
      }
    },
    {
      "cell_type": "code",
      "source": [
        "# ..."
      ],
      "metadata": {
        "id": "nzZj8zLTtWxV"
      },
      "execution_count": null,
      "outputs": []
    },
    {
      "cell_type": "markdown",
      "source": [
        "## [1] Expression heatmap\n",
        "\n",
        "Now let's visualize the expression of top N genes. First - let's get the data:"
      ],
      "metadata": {
        "id": "2o_KxUf2lon1"
      }
    },
    {
      "cell_type": "code",
      "source": [
        "# As before, we will select genes based on their overall expression\n",
        "sumexpr = ...\n",
        "\n",
        "topn = 250\n",
        "# select indices of topn genes with max expression\n",
        "ind = ...\n",
        "\n",
        "# get the expression values\n",
        "expr = ...\n",
        "expr"
      ],
      "metadata": {
        "colab": {
          "base_uri": "https://localhost:8080/",
          "height": 424
        },
        "id": "O_APZmWGWAZE",
        "outputId": "5f6688e2-889c-4179-9884-8da0a85067ba"
      },
      "execution_count": null,
      "outputs": [
        {
          "output_type": "execute_result",
          "data": {
            "text/plain": [
              "                WT 1           WT 2           WT 3     ADAR1-KO 1  \\\n",
              "16822     354.666801     378.119043     351.839586     337.193413   \n",
              "18815     399.123179     370.559682     370.802462     285.393773   \n",
              "8889      370.760177     371.130393     341.416847     348.605561   \n",
              "15722     330.728785     300.830754     366.588915     322.513975   \n",
              "3026      375.038797     349.275206     349.147615     366.439702   \n",
              "...              ...            ...            ...            ...   \n",
              "17914   11752.649712   11573.023455   12443.641672   13559.402518   \n",
              "37132   14274.473853   14348.844034   15964.720522   15954.974569   \n",
              "52514   24940.017679   25474.594691  113278.214067   11773.807530   \n",
              "54582  102334.349529  106563.019037  105427.248728  102413.253603   \n",
              "52530  167432.945541  193591.189912   81594.393731  161363.851954   \n",
              "\n",
              "          ADAR1-KO 2     ADAR1-KO 3  \n",
              "16822     332.245688     313.615214  \n",
              "18815     358.448513     299.900925  \n",
              "8889      352.361944     322.746592  \n",
              "15722     403.102266     388.014514  \n",
              "3026      349.525445     324.287622  \n",
              "...              ...            ...  \n",
              "17914   14370.470688   13691.010991  \n",
              "37132   17029.868971   16250.250283  \n",
              "52514   33228.528517   20900.377150  \n",
              "54582   97606.676391  108510.891018  \n",
              "52530  127290.164003  159930.560284  \n",
              "\n",
              "[250 rows x 6 columns]"
            ],
            "text/html": [
              "\n",
              "  <div id=\"df-6f530596-a2f5-42b5-b493-4618d0cb4b46\">\n",
              "    <div class=\"colab-df-container\">\n",
              "      <div>\n",
              "<style scoped>\n",
              "    .dataframe tbody tr th:only-of-type {\n",
              "        vertical-align: middle;\n",
              "    }\n",
              "\n",
              "    .dataframe tbody tr th {\n",
              "        vertical-align: top;\n",
              "    }\n",
              "\n",
              "    .dataframe thead th {\n",
              "        text-align: right;\n",
              "    }\n",
              "</style>\n",
              "<table border=\"1\" class=\"dataframe\">\n",
              "  <thead>\n",
              "    <tr style=\"text-align: right;\">\n",
              "      <th></th>\n",
              "      <th>WT 1</th>\n",
              "      <th>WT 2</th>\n",
              "      <th>WT 3</th>\n",
              "      <th>ADAR1-KO 1</th>\n",
              "      <th>ADAR1-KO 2</th>\n",
              "      <th>ADAR1-KO 3</th>\n",
              "    </tr>\n",
              "  </thead>\n",
              "  <tbody>\n",
              "    <tr>\n",
              "      <th>16822</th>\n",
              "      <td>354.666801</td>\n",
              "      <td>378.119043</td>\n",
              "      <td>351.839586</td>\n",
              "      <td>337.193413</td>\n",
              "      <td>332.245688</td>\n",
              "      <td>313.615214</td>\n",
              "    </tr>\n",
              "    <tr>\n",
              "      <th>18815</th>\n",
              "      <td>399.123179</td>\n",
              "      <td>370.559682</td>\n",
              "      <td>370.802462</td>\n",
              "      <td>285.393773</td>\n",
              "      <td>358.448513</td>\n",
              "      <td>299.900925</td>\n",
              "    </tr>\n",
              "    <tr>\n",
              "      <th>8889</th>\n",
              "      <td>370.760177</td>\n",
              "      <td>371.130393</td>\n",
              "      <td>341.416847</td>\n",
              "      <td>348.605561</td>\n",
              "      <td>352.361944</td>\n",
              "      <td>322.746592</td>\n",
              "    </tr>\n",
              "    <tr>\n",
              "      <th>15722</th>\n",
              "      <td>330.728785</td>\n",
              "      <td>300.830754</td>\n",
              "      <td>366.588915</td>\n",
              "      <td>322.513975</td>\n",
              "      <td>403.102266</td>\n",
              "      <td>388.014514</td>\n",
              "    </tr>\n",
              "    <tr>\n",
              "      <th>3026</th>\n",
              "      <td>375.038797</td>\n",
              "      <td>349.275206</td>\n",
              "      <td>349.147615</td>\n",
              "      <td>366.439702</td>\n",
              "      <td>349.525445</td>\n",
              "      <td>324.287622</td>\n",
              "    </tr>\n",
              "    <tr>\n",
              "      <th>...</th>\n",
              "      <td>...</td>\n",
              "      <td>...</td>\n",
              "      <td>...</td>\n",
              "      <td>...</td>\n",
              "      <td>...</td>\n",
              "      <td>...</td>\n",
              "    </tr>\n",
              "    <tr>\n",
              "      <th>17914</th>\n",
              "      <td>11752.649712</td>\n",
              "      <td>11573.023455</td>\n",
              "      <td>12443.641672</td>\n",
              "      <td>13559.402518</td>\n",
              "      <td>14370.470688</td>\n",
              "      <td>13691.010991</td>\n",
              "    </tr>\n",
              "    <tr>\n",
              "      <th>37132</th>\n",
              "      <td>14274.473853</td>\n",
              "      <td>14348.844034</td>\n",
              "      <td>15964.720522</td>\n",
              "      <td>15954.974569</td>\n",
              "      <td>17029.868971</td>\n",
              "      <td>16250.250283</td>\n",
              "    </tr>\n",
              "    <tr>\n",
              "      <th>52514</th>\n",
              "      <td>24940.017679</td>\n",
              "      <td>25474.594691</td>\n",
              "      <td>113278.214067</td>\n",
              "      <td>11773.807530</td>\n",
              "      <td>33228.528517</td>\n",
              "      <td>20900.377150</td>\n",
              "    </tr>\n",
              "    <tr>\n",
              "      <th>54582</th>\n",
              "      <td>102334.349529</td>\n",
              "      <td>106563.019037</td>\n",
              "      <td>105427.248728</td>\n",
              "      <td>102413.253603</td>\n",
              "      <td>97606.676391</td>\n",
              "      <td>108510.891018</td>\n",
              "    </tr>\n",
              "    <tr>\n",
              "      <th>52530</th>\n",
              "      <td>167432.945541</td>\n",
              "      <td>193591.189912</td>\n",
              "      <td>81594.393731</td>\n",
              "      <td>161363.851954</td>\n",
              "      <td>127290.164003</td>\n",
              "      <td>159930.560284</td>\n",
              "    </tr>\n",
              "  </tbody>\n",
              "</table>\n",
              "<p>250 rows × 6 columns</p>\n",
              "</div>\n",
              "      <button class=\"colab-df-convert\" onclick=\"convertToInteractive('df-6f530596-a2f5-42b5-b493-4618d0cb4b46')\"\n",
              "              title=\"Convert this dataframe to an interactive table.\"\n",
              "              style=\"display:none;\">\n",
              "        \n",
              "  <svg xmlns=\"http://www.w3.org/2000/svg\" height=\"24px\"viewBox=\"0 0 24 24\"\n",
              "       width=\"24px\">\n",
              "    <path d=\"M0 0h24v24H0V0z\" fill=\"none\"/>\n",
              "    <path d=\"M18.56 5.44l.94 2.06.94-2.06 2.06-.94-2.06-.94-.94-2.06-.94 2.06-2.06.94zm-11 1L8.5 8.5l.94-2.06 2.06-.94-2.06-.94L8.5 2.5l-.94 2.06-2.06.94zm10 10l.94 2.06.94-2.06 2.06-.94-2.06-.94-.94-2.06-.94 2.06-2.06.94z\"/><path d=\"M17.41 7.96l-1.37-1.37c-.4-.4-.92-.59-1.43-.59-.52 0-1.04.2-1.43.59L10.3 9.45l-7.72 7.72c-.78.78-.78 2.05 0 2.83L4 21.41c.39.39.9.59 1.41.59.51 0 1.02-.2 1.41-.59l7.78-7.78 2.81-2.81c.8-.78.8-2.07 0-2.86zM5.41 20L4 18.59l7.72-7.72 1.47 1.35L5.41 20z\"/>\n",
              "  </svg>\n",
              "      </button>\n",
              "      \n",
              "  <style>\n",
              "    .colab-df-container {\n",
              "      display:flex;\n",
              "      flex-wrap:wrap;\n",
              "      gap: 12px;\n",
              "    }\n",
              "\n",
              "    .colab-df-convert {\n",
              "      background-color: #E8F0FE;\n",
              "      border: none;\n",
              "      border-radius: 50%;\n",
              "      cursor: pointer;\n",
              "      display: none;\n",
              "      fill: #1967D2;\n",
              "      height: 32px;\n",
              "      padding: 0 0 0 0;\n",
              "      width: 32px;\n",
              "    }\n",
              "\n",
              "    .colab-df-convert:hover {\n",
              "      background-color: #E2EBFA;\n",
              "      box-shadow: 0px 1px 2px rgba(60, 64, 67, 0.3), 0px 1px 3px 1px rgba(60, 64, 67, 0.15);\n",
              "      fill: #174EA6;\n",
              "    }\n",
              "\n",
              "    [theme=dark] .colab-df-convert {\n",
              "      background-color: #3B4455;\n",
              "      fill: #D2E3FC;\n",
              "    }\n",
              "\n",
              "    [theme=dark] .colab-df-convert:hover {\n",
              "      background-color: #434B5C;\n",
              "      box-shadow: 0px 1px 3px 1px rgba(0, 0, 0, 0.15);\n",
              "      filter: drop-shadow(0px 1px 2px rgba(0, 0, 0, 0.3));\n",
              "      fill: #FFFFFF;\n",
              "    }\n",
              "  </style>\n",
              "\n",
              "      <script>\n",
              "        const buttonEl =\n",
              "          document.querySelector('#df-6f530596-a2f5-42b5-b493-4618d0cb4b46 button.colab-df-convert');\n",
              "        buttonEl.style.display =\n",
              "          google.colab.kernel.accessAllowed ? 'block' : 'none';\n",
              "\n",
              "        async function convertToInteractive(key) {\n",
              "          const element = document.querySelector('#df-6f530596-a2f5-42b5-b493-4618d0cb4b46');\n",
              "          const dataTable =\n",
              "            await google.colab.kernel.invokeFunction('convertToInteractive',\n",
              "                                                     [key], {});\n",
              "          if (!dataTable) return;\n",
              "\n",
              "          const docLinkHtml = 'Like what you see? Visit the ' +\n",
              "            '<a target=\"_blank\" href=https://colab.research.google.com/notebooks/data_table.ipynb>data table notebook</a>'\n",
              "            + ' to learn more about interactive tables.';\n",
              "          element.innerHTML = '';\n",
              "          dataTable['output_type'] = 'display_data';\n",
              "          await google.colab.output.renderOutput(dataTable, element);\n",
              "          const docLink = document.createElement('div');\n",
              "          docLink.innerHTML = docLinkHtml;\n",
              "          element.appendChild(docLink);\n",
              "        }\n",
              "      </script>\n",
              "    </div>\n",
              "  </div>\n",
              "  "
            ]
          },
          "metadata": {},
          "execution_count": 16
        }
      ]
    },
    {
      "cell_type": "markdown",
      "source": [
        "This time, we will focus on the `seaborn` library - a framework built on top of the `matplotlib`. In fact `seaborn` is a nice collection of figure templates, that are fairly customizable.\n",
        "\n",
        "Look through the [seaborn](https://seaborn.pydata.org/) documenation and find a function that will give produce the figure below:"
      ],
      "metadata": {
        "id": "5Dsm6L_0WtZc"
      }
    },
    {
      "cell_type": "markdown",
      "source": [
        "![image.png](data:image/png;base64,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)"
      ],
      "metadata": {
        "id": "XFYdyF3k9av4"
      }
    },
    {
      "cell_type": "code",
      "source": [
        "import seaborn as sns\n",
        "\n",
        "# Plot the data\n",
        "cluster = ...\n",
        "\n",
        "# Disable x axis labels\n",
        "# hint: cluster.ax_heatmap is a simple matplotlib axis instance\n",
        "...\n",
        "\n",
        "# Add figure title\n",
        "# hint: cluster.figure is a simple matplotlib figure\n",
        "..."
      ],
      "metadata": {
        "id": "y6V2K-RWWszF"
      },
      "execution_count": null,
      "outputs": []
    },
    {
      "cell_type": "markdown",
      "source": [
        "This is a nice example of variability that can be observed in real world biological data. However, in most cases such difference is not significant and just a random noise. Otherwise... It's useless.\n",
        "\n",
        "For what popular RNA-seq analysis would such a figure be good supporting evidence? Insert an example image (using the link).\n",
        "\n",
        "Your answer: `...`"
      ],
      "metadata": {
        "id": "6kHGlZvsT-NG"
      }
    }
  ]
}